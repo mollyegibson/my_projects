{
 "cells": [
  {
   "cell_type": "code",
   "execution_count": 3,
   "metadata": {
    "collapsed": false
   },
   "outputs": [
    {
     "data": {
      "text/plain": [
       "matrix([[ 0,  1,  2,  3],\n",
       "        [ 4,  5,  6,  7],\n",
       "        [ 8,  9, 10, 11],\n",
       "        [12, 13, 14, 15]])"
      ]
     },
     "execution_count": 3,
     "metadata": {},
     "output_type": "execute_result"
    }
   ],
   "source": [
    "import pandas as pd\n",
    "import numpy as np\n",
    "from itertools import chain, product\n",
    "\n",
    "board = np.matrix([[0, 1, 2, 3], [4, 5, 6, 7], [8, 9, 10, 11], [12, 13, 14, 15]])\n",
    "board"
   ]
  },
  {
   "cell_type": "code",
   "execution_count": 79,
   "metadata": {
    "collapsed": false
   },
   "outputs": [],
   "source": [
    "# so we'll have an index in range(0, 15); \n",
    "# creating a function to translate that into which spots on the grid\n",
    "def get_grid_loc(index):\n",
    "    return index // 4, index % 4\n",
    "\n",
    "# and then a func to get the index from the grid loc\n",
    "def get_index(i, j):\n",
    "    return 4*i + j\n",
    "\n",
    "def in_board(i, j):\n",
    "    return (0 <= i < 4) and (0 <= j < 4)\n",
    "    \n",
    "# and then we need a function to tell us the possible moves for the night\n",
    "# based on where he's currently located on the grid (current index)\n",
    "\n",
    "def potential_moves(current_index):\n",
    "    # use chain() to make list of possible directions for the knight to move\n",
    "    # then check if he'd still be on the board if he moved that direction\n",
    "    # from his current position - so let's also make a function to check\n",
    "    # if it's within the bounds of the board\n",
    "    pos = np.array(get_grid_loc(current_index))\n",
    "    moves = [np.array(c) for c in chain(product([-2, 2], [1, -1]), product([1, -1], [-2, 2]))]\n",
    "    return [get_index(i, j) for i, j in pos + moves if in_board(i, j)]\n",
    "#     for c in chain(product([-2, 2], [-1, 1]), product([-1, 1], [-2, 2])): #, product([-1, 1], [-2, 2]):\n",
    "#         print(np.array(c))\n",
    "    \n",
    "\n",
    "# and then we want to find the expected value of S after T jumps\n",
    "\n",
    "# After T = 16 moves, what is the mean of quantity S mod 13?\n",
    "\n",
    "def transition_matrix():\n",
    "    TM = np.zeros((16,16))\n",
    "    for i in range(16):\n",
    "        moves = potential_moves(i)\n",
    "        for m in moves:\n",
    "            TM[i, j] = 1/len(moves)\n",
    "    return TM\n",
    "\n",
    "def calc_S(T):\n",
    "    M = transition_matrix()\n",
    "    S = np.zeros((16, T+1))\n",
    "    for i in range(16):\n",
    "        S[i, 0] = i\n",
    "    for t in range(1, T+1):\n",
    "        for i in range(16):\n",
    "            S[i, t] = sum(M[i, j] * (i + S[j, t-1]) for j in range(16))\n",
    "    return S\n"
   ]
  },
  {
   "cell_type": "code",
   "execution_count": 87,
   "metadata": {
    "collapsed": false
   },
   "outputs": [
    {
     "name": "stdout",
     "output_type": "stream",
     "text": [
      "[6, 9]\n"
     ]
    },
    {
     "data": {
      "text/plain": [
       "1.0"
      ]
     },
     "execution_count": 87,
     "metadata": {},
     "output_type": "execute_result"
    }
   ],
   "source": [
    "\n",
    "# knight_hops = [np.array(hop) for hop in chain(product([-2, 2], [-1, 1]), product([-1, 1], [-2, 2]))]\n",
    "# knight_hops\n",
    "\n",
    "\n",
    "# moves= chain(product([-2, 2], [1, -1]), product([1, -1], [-2, 2]))\n",
    "# type(moves)\n",
    "moves = [np.array(m) for m in chain(product([-2, 2], [1, -1]), product([1, -1], [-2, 2]))]\n",
    "\n",
    "#for m in moves: print(np.array(m))\n",
    "    \n",
    "#print(type(moves))\n",
    "\n",
    "# print([get_index(i, j) for i, j in np.array(get_grid_loc(15)) + moves \\\n",
    "#             if in_board(i,j)])\n",
    "\n",
    "print(potential_moves(15))\n",
    "get_grid_loc(15)\n",
    "#     print(in_board(i, j))\n",
    "#     print(get_index(i, j))\n",
    "#current\n",
    "# for p in chain():\n",
    "#     print(p)\n",
    "\n",
    "calc_S(16)[1,1]"
   ]
  }
 ],
 "metadata": {
  "kernelspec": {
   "display_name": "Python 3",
   "language": "python",
   "name": "python3"
  },
  "language_info": {
   "codemirror_mode": {
    "name": "ipython",
    "version": 3
   },
   "file_extension": ".py",
   "mimetype": "text/x-python",
   "name": "python",
   "nbconvert_exporter": "python",
   "pygments_lexer": "ipython3",
   "version": "3.6.0"
  }
 },
 "nbformat": 4,
 "nbformat_minor": 2
}
