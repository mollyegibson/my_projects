{
 "cells": [
  {
   "cell_type": "markdown",
   "metadata": {},
   "source": [
    "# USER DATA ANALYSIS #\n",
    "\n",
    "\n",
    "## Molly Gibson ## \n",
    "### December 10, 2017 ###"
   ]
  },
  {
   "cell_type": "code",
   "execution_count": 1,
   "metadata": {
    "collapsed": false
   },
   "outputs": [
    {
     "data": {
      "text/html": [
       "<div>\n",
       "<style>\n",
       "    .dataframe thead tr:only-child th {\n",
       "        text-align: right;\n",
       "    }\n",
       "\n",
       "    .dataframe thead th {\n",
       "        text-align: left;\n",
       "    }\n",
       "\n",
       "    .dataframe tbody tr th {\n",
       "        vertical-align: top;\n",
       "    }\n",
       "</style>\n",
       "<table border=\"1\" class=\"dataframe\">\n",
       "  <thead>\n",
       "    <tr style=\"text-align: right;\">\n",
       "      <th></th>\n",
       "      <th>thread_request_id</th>\n",
       "      <th>user_id</th>\n",
       "      <th>message_thread_id</th>\n",
       "      <th>time_estimate</th>\n",
       "      <th>started_at</th>\n",
       "      <th>category</th>\n",
       "      <th>category_name</th>\n",
       "    </tr>\n",
       "  </thead>\n",
       "  <tbody>\n",
       "    <tr>\n",
       "      <th>0</th>\n",
       "      <td>346428</td>\n",
       "      <td>3027</td>\n",
       "      <td>202964</td>\n",
       "      <td>300</td>\n",
       "      <td>2016-12-22 23:37:37.290278</td>\n",
       "      <td>1.0</td>\n",
       "      <td>remember</td>\n",
       "    </tr>\n",
       "    <tr>\n",
       "      <th>1</th>\n",
       "      <td>346743</td>\n",
       "      <td>1091</td>\n",
       "      <td>204007</td>\n",
       "      <td>900</td>\n",
       "      <td>2016-12-23 16:39:11.012272</td>\n",
       "      <td>1.0</td>\n",
       "      <td>remember</td>\n",
       "    </tr>\n",
       "    <tr>\n",
       "      <th>2</th>\n",
       "      <td>347547</td>\n",
       "      <td>2568</td>\n",
       "      <td>204453</td>\n",
       "      <td>300</td>\n",
       "      <td>2016-12-26 01:30:43.645915</td>\n",
       "      <td>1.0</td>\n",
       "      <td>remember</td>\n",
       "    </tr>\n",
       "    <tr>\n",
       "      <th>3</th>\n",
       "      <td>347882</td>\n",
       "      <td>1304</td>\n",
       "      <td>204645</td>\n",
       "      <td>900</td>\n",
       "      <td>2016-12-27 02:50:02.940321</td>\n",
       "      <td>10.0</td>\n",
       "      <td>find_answer</td>\n",
       "    </tr>\n",
       "    <tr>\n",
       "      <th>4</th>\n",
       "      <td>348714</td>\n",
       "      <td>213</td>\n",
       "      <td>205092</td>\n",
       "      <td>300</td>\n",
       "      <td>2016-12-29 00:56:49.136263</td>\n",
       "      <td>2.0</td>\n",
       "      <td>message</td>\n",
       "    </tr>\n",
       "  </tbody>\n",
       "</table>\n",
       "</div>"
      ],
      "text/plain": [
       "   thread_request_id  user_id  message_thread_id  time_estimate  \\\n",
       "0             346428     3027             202964            300   \n",
       "1             346743     1091             204007            900   \n",
       "2             347547     2568             204453            300   \n",
       "3             347882     1304             204645            900   \n",
       "4             348714      213             205092            300   \n",
       "\n",
       "                   started_at  category category_name  \n",
       "0  2016-12-22 23:37:37.290278       1.0      remember  \n",
       "1  2016-12-23 16:39:11.012272       1.0      remember  \n",
       "2  2016-12-26 01:30:43.645915       1.0      remember  \n",
       "3  2016-12-27 02:50:02.940321      10.0   find_answer  \n",
       "4  2016-12-29 00:56:49.136263       2.0       message  "
      ]
     },
     "execution_count": 1,
     "metadata": {},
     "output_type": "execute_result"
    }
   ],
   "source": [
    "import pandas as pd\n",
    "import numpy as np\n",
    "\n",
    "# load the data into dataframes:\n",
    "requests = pd.read_csv('thread_requests.csv')\n",
    "\n",
    "requests.head()\n"
   ]
  },
  {
   "cell_type": "code",
   "execution_count": 2,
   "metadata": {
    "collapsed": false
   },
   "outputs": [
    {
     "data": {
      "text/html": [
       "<div>\n",
       "<style>\n",
       "    .dataframe thead tr:only-child th {\n",
       "        text-align: right;\n",
       "    }\n",
       "\n",
       "    .dataframe thead th {\n",
       "        text-align: left;\n",
       "    }\n",
       "\n",
       "    .dataframe tbody tr th {\n",
       "        vertical-align: top;\n",
       "    }\n",
       "</style>\n",
       "<table border=\"1\" class=\"dataframe\">\n",
       "  <thead>\n",
       "    <tr style=\"text-align: right;\">\n",
       "      <th></th>\n",
       "      <th>message_thread_id</th>\n",
       "      <th>thread_request_id</th>\n",
       "      <th>case</th>\n",
       "      <th>agent_id</th>\n",
       "      <th>lock_start</th>\n",
       "      <th>lock_end</th>\n",
       "    </tr>\n",
       "  </thead>\n",
       "  <tbody>\n",
       "    <tr>\n",
       "      <th>0</th>\n",
       "      <td>169351</td>\n",
       "      <td>346261</td>\n",
       "      <td>queue</td>\n",
       "      <td>2494.0</td>\n",
       "      <td>2016-12-22 18:06:55.588717</td>\n",
       "      <td>2016-12-22 18:10:01.818545</td>\n",
       "    </tr>\n",
       "    <tr>\n",
       "      <th>1</th>\n",
       "      <td>203738</td>\n",
       "      <td>346275</td>\n",
       "      <td>lock</td>\n",
       "      <td>238.0</td>\n",
       "      <td>2016-12-22 18:32:31.106625</td>\n",
       "      <td>2016-12-22 18:34:16.399532</td>\n",
       "    </tr>\n",
       "    <tr>\n",
       "      <th>2</th>\n",
       "      <td>203738</td>\n",
       "      <td>346275</td>\n",
       "      <td>done</td>\n",
       "      <td>238.0</td>\n",
       "      <td>2016-12-22 18:34:16.399532</td>\n",
       "      <td>NaN</td>\n",
       "    </tr>\n",
       "    <tr>\n",
       "      <th>3</th>\n",
       "      <td>202512</td>\n",
       "      <td>346235</td>\n",
       "      <td>done</td>\n",
       "      <td>2527.0</td>\n",
       "      <td>2016-12-22 18:41:24.91635</td>\n",
       "      <td>2016-12-22 18:41:28.919264</td>\n",
       "    </tr>\n",
       "    <tr>\n",
       "      <th>4</th>\n",
       "      <td>203670</td>\n",
       "      <td>346231</td>\n",
       "      <td>lock</td>\n",
       "      <td>238.0</td>\n",
       "      <td>2016-12-22 18:52:17.89301</td>\n",
       "      <td>2016-12-22 18:55:24.746147</td>\n",
       "    </tr>\n",
       "  </tbody>\n",
       "</table>\n",
       "</div>"
      ],
      "text/plain": [
       "   message_thread_id  thread_request_id   case  agent_id  \\\n",
       "0             169351             346261  queue    2494.0   \n",
       "1             203738             346275   lock     238.0   \n",
       "2             203738             346275   done     238.0   \n",
       "3             202512             346235   done    2527.0   \n",
       "4             203670             346231   lock     238.0   \n",
       "\n",
       "                   lock_start                    lock_end  \n",
       "0  2016-12-22 18:06:55.588717  2016-12-22 18:10:01.818545  \n",
       "1  2016-12-22 18:32:31.106625  2016-12-22 18:34:16.399532  \n",
       "2  2016-12-22 18:34:16.399532                         NaN  \n",
       "3   2016-12-22 18:41:24.91635  2016-12-22 18:41:28.919264  \n",
       "4   2016-12-22 18:52:17.89301  2016-12-22 18:55:24.746147  "
      ]
     },
     "execution_count": 2,
     "metadata": {},
     "output_type": "execute_result"
    }
   ],
   "source": [
    "# and load the second dataset: \n",
    "states = pd.read_csv('thread_states.csv')\n",
    "\n",
    "states.head()"
   ]
  },
  {
   "cell_type": "code",
   "execution_count": 3,
   "metadata": {
    "collapsed": false
   },
   "outputs": [
    {
     "name": "stdout",
     "output_type": "stream",
     "text": [
      "THREAD REQUESTS\n",
      "\n",
      "Number of rows: 72058 \n"
     ]
    },
    {
     "data": {
      "text/html": [
       "<div>\n",
       "<style>\n",
       "    .dataframe thead tr:only-child th {\n",
       "        text-align: right;\n",
       "    }\n",
       "\n",
       "    .dataframe thead th {\n",
       "        text-align: left;\n",
       "    }\n",
       "\n",
       "    .dataframe tbody tr th {\n",
       "        vertical-align: top;\n",
       "    }\n",
       "</style>\n",
       "<table border=\"1\" class=\"dataframe\">\n",
       "  <thead>\n",
       "    <tr style=\"text-align: right;\">\n",
       "      <th></th>\n",
       "      <th>Column Name</th>\n",
       "      <th>Data Type</th>\n",
       "      <th>Unique Count</th>\n",
       "      <th>Sample Value</th>\n",
       "      <th>NaNs</th>\n",
       "      <th>% NaN</th>\n",
       "    </tr>\n",
       "  </thead>\n",
       "  <tbody>\n",
       "    <tr>\n",
       "      <th>0</th>\n",
       "      <td>thread_request_id</td>\n",
       "      <td>int64</td>\n",
       "      <td>72058</td>\n",
       "      <td>346428</td>\n",
       "      <td>0</td>\n",
       "      <td>0.00</td>\n",
       "    </tr>\n",
       "    <tr>\n",
       "      <th>1</th>\n",
       "      <td>user_id</td>\n",
       "      <td>int64</td>\n",
       "      <td>1020</td>\n",
       "      <td>3027</td>\n",
       "      <td>0</td>\n",
       "      <td>0.00</td>\n",
       "    </tr>\n",
       "    <tr>\n",
       "      <th>2</th>\n",
       "      <td>message_thread_id</td>\n",
       "      <td>int64</td>\n",
       "      <td>49146</td>\n",
       "      <td>202964</td>\n",
       "      <td>0</td>\n",
       "      <td>0.00</td>\n",
       "    </tr>\n",
       "    <tr>\n",
       "      <th>3</th>\n",
       "      <td>time_estimate</td>\n",
       "      <td>int64</td>\n",
       "      <td>42</td>\n",
       "      <td>300</td>\n",
       "      <td>0</td>\n",
       "      <td>0.00</td>\n",
       "    </tr>\n",
       "    <tr>\n",
       "      <th>4</th>\n",
       "      <td>started_at</td>\n",
       "      <td>object</td>\n",
       "      <td>72058</td>\n",
       "      <td>2016-12-22 23:37:37.290278</td>\n",
       "      <td>0</td>\n",
       "      <td>0.00</td>\n",
       "    </tr>\n",
       "    <tr>\n",
       "      <th>5</th>\n",
       "      <td>category</td>\n",
       "      <td>float64</td>\n",
       "      <td>19</td>\n",
       "      <td>1</td>\n",
       "      <td>84</td>\n",
       "      <td>0.12</td>\n",
       "    </tr>\n",
       "    <tr>\n",
       "      <th>6</th>\n",
       "      <td>category_name</td>\n",
       "      <td>object</td>\n",
       "      <td>19</td>\n",
       "      <td>remember</td>\n",
       "      <td>84</td>\n",
       "      <td>0.12</td>\n",
       "    </tr>\n",
       "  </tbody>\n",
       "</table>\n",
       "</div>"
      ],
      "text/plain": [
       "         Column Name Data Type  Unique Count                Sample Value  \\\n",
       "0  thread_request_id     int64         72058                      346428   \n",
       "1            user_id     int64          1020                        3027   \n",
       "2  message_thread_id     int64         49146                      202964   \n",
       "3      time_estimate     int64            42                         300   \n",
       "4         started_at    object         72058  2016-12-22 23:37:37.290278   \n",
       "5           category   float64            19                           1   \n",
       "6      category_name    object            19                    remember   \n",
       "\n",
       "   NaNs  % NaN  \n",
       "0     0   0.00  \n",
       "1     0   0.00  \n",
       "2     0   0.00  \n",
       "3     0   0.00  \n",
       "4     0   0.00  \n",
       "5    84   0.12  \n",
       "6    84   0.12  "
      ]
     },
     "execution_count": 3,
     "metadata": {},
     "output_type": "execute_result"
    }
   ],
   "source": [
    "# my own module that neatly describes a dataframe\n",
    "from column_report import get_column_report\n",
    "\n",
    "print('THREAD REQUESTS\\n\\nNumber of rows: %s ' % len(requests))\n",
    "get_column_report(requests)"
   ]
  },
  {
   "cell_type": "code",
   "execution_count": 107,
   "metadata": {
    "collapsed": false
   },
   "outputs": [
    {
     "name": "stdout",
     "output_type": "stream",
     "text": [
      "THREAD STATES\n",
      "\n",
      "Number of rows: 404805\n"
     ]
    },
    {
     "data": {
      "text/html": [
       "<div>\n",
       "<style>\n",
       "    .dataframe thead tr:only-child th {\n",
       "        text-align: right;\n",
       "    }\n",
       "\n",
       "    .dataframe thead th {\n",
       "        text-align: left;\n",
       "    }\n",
       "\n",
       "    .dataframe tbody tr th {\n",
       "        vertical-align: top;\n",
       "    }\n",
       "</style>\n",
       "<table border=\"1\" class=\"dataframe\">\n",
       "  <thead>\n",
       "    <tr style=\"text-align: right;\">\n",
       "      <th></th>\n",
       "      <th>Column Name</th>\n",
       "      <th>Data Type</th>\n",
       "      <th>Unique Count</th>\n",
       "      <th>Sample Value</th>\n",
       "      <th>NaNs</th>\n",
       "      <th>% NaN</th>\n",
       "    </tr>\n",
       "  </thead>\n",
       "  <tbody>\n",
       "    <tr>\n",
       "      <th>0</th>\n",
       "      <td>message_thread_id</td>\n",
       "      <td>int64</td>\n",
       "      <td>62267</td>\n",
       "      <td>169351</td>\n",
       "      <td>0</td>\n",
       "      <td>0.00</td>\n",
       "    </tr>\n",
       "    <tr>\n",
       "      <th>1</th>\n",
       "      <td>thread_request_id</td>\n",
       "      <td>int64</td>\n",
       "      <td>109013</td>\n",
       "      <td>346261</td>\n",
       "      <td>0</td>\n",
       "      <td>0.00</td>\n",
       "    </tr>\n",
       "    <tr>\n",
       "      <th>2</th>\n",
       "      <td>case</td>\n",
       "      <td>object</td>\n",
       "      <td>4</td>\n",
       "      <td>queue</td>\n",
       "      <td>0</td>\n",
       "      <td>0.00</td>\n",
       "    </tr>\n",
       "    <tr>\n",
       "      <th>4</th>\n",
       "      <td>lock_start</td>\n",
       "      <td>object</td>\n",
       "      <td>404805</td>\n",
       "      <td>2016-12-22 18:06:55.588717</td>\n",
       "      <td>0</td>\n",
       "      <td>0.00</td>\n",
       "    </tr>\n",
       "    <tr>\n",
       "      <th>3</th>\n",
       "      <td>agent_id</td>\n",
       "      <td>float64</td>\n",
       "      <td>70</td>\n",
       "      <td>2494</td>\n",
       "      <td>20758</td>\n",
       "      <td>5.13</td>\n",
       "    </tr>\n",
       "    <tr>\n",
       "      <th>5</th>\n",
       "      <td>lock_end</td>\n",
       "      <td>object</td>\n",
       "      <td>342514</td>\n",
       "      <td>2016-12-22 18:10:01.818545</td>\n",
       "      <td>62095</td>\n",
       "      <td>15.34</td>\n",
       "    </tr>\n",
       "  </tbody>\n",
       "</table>\n",
       "</div>"
      ],
      "text/plain": [
       "         Column Name Data Type  Unique Count                Sample Value  \\\n",
       "0  message_thread_id     int64         62267                      169351   \n",
       "1  thread_request_id     int64        109013                      346261   \n",
       "2               case    object             4                       queue   \n",
       "4         lock_start    object        404805  2016-12-22 18:06:55.588717   \n",
       "3           agent_id   float64            70                        2494   \n",
       "5           lock_end    object        342514  2016-12-22 18:10:01.818545   \n",
       "\n",
       "    NaNs  % NaN  \n",
       "0      0   0.00  \n",
       "1      0   0.00  \n",
       "2      0   0.00  \n",
       "4      0   0.00  \n",
       "3  20758   5.13  \n",
       "5  62095  15.34  "
      ]
     },
     "execution_count": 107,
     "metadata": {},
     "output_type": "execute_result"
    }
   ],
   "source": [
    "print('THREAD STATES\\n\\nNumber of rows: %s' % len(states))\n",
    "get_column_report(states)"
   ]
  },
  {
   "cell_type": "code",
   "execution_count": 5,
   "metadata": {
    "collapsed": false
   },
   "outputs": [
    {
     "name": "stdout",
     "output_type": "stream",
     "text": [
      "The four cases of thread states: \n"
     ]
    },
    {
     "data": {
      "text/plain": [
       "done      132201\n",
       "queue     129062\n",
       "lock      127040\n",
       "paused     16502\n",
       "Name: case, dtype: int64"
      ]
     },
     "execution_count": 5,
     "metadata": {},
     "output_type": "execute_result"
    }
   ],
   "source": [
    "# and now let's look at a few other things to get a better idea of the data we're working with\n",
    "print('The four cases of thread states: ')\n",
    "\n",
    "states.case.value_counts()"
   ]
  },
  {
   "cell_type": "code",
   "execution_count": 4,
   "metadata": {
    "collapsed": false
   },
   "outputs": [
    {
     "name": "stdout",
     "output_type": "stream",
     "text": [
      "Thread categories: \n"
     ]
    },
    {
     "data": {
      "text/plain": [
       "remember                  19102\n",
       "scheduling_over_email      9785\n",
       "calendar                   6754\n",
       "message                    6463\n",
       "find_answer                5583\n",
       "research                   4558\n",
       "spam                       3596\n",
       "admin                      3277\n",
       "shopping                   3101\n",
       "booking                    2579\n",
       "quick_reservation          1989\n",
       "conversation               1576\n",
       "needs_clarification        1511\n",
       "travel                     1025\n",
       "recommendation              871\n",
       "remember_transcription      201\n",
       "reminder                      2\n",
       "Name: category_name, dtype: int64"
      ]
     },
     "execution_count": 4,
     "metadata": {},
     "output_type": "execute_result"
    }
   ],
   "source": [
    "print('Thread categories: ')\n",
    "\n",
    "requests.category_name.value_counts()[:-1]"
   ]
  },
  {
   "cell_type": "code",
   "execution_count": 6,
   "metadata": {
    "collapsed": false
   },
   "outputs": [
    {
     "name": "stdout",
     "output_type": "stream",
     "text": [
      "number of unique message thread ids: 62267 \n",
      "number of unique thread request ids: 109013 \n"
     ]
    }
   ],
   "source": [
    "# there can be multiple thread requests on each thread\n",
    "print('number of unique message thread ids: %s ' % len(states.message_thread_id.unique()))\n",
    "print('number of unique thread request ids: %s ' % len(states.thread_request_id.unique()))\n"
   ]
  },
  {
   "cell_type": "markdown",
   "metadata": {},
   "source": [
    "# Question 1: #\n",
    "## What can you tell us about trends in thread requests over time?\n",
    "* Are we spending more or less time locked on thread requests?\n",
    "* Are thread requests getting harder or easier?\n",
    "* Are we pausing more or less over time?\n",
    "\n"
   ]
  },
  {
   "cell_type": "code",
   "execution_count": 111,
   "metadata": {
    "collapsed": false
   },
   "outputs": [
    {
     "name": "stdout",
     "output_type": "stream",
     "text": [
      "This dataset contains thread requests from 2016-12-22 to 2017-06-20\n"
     ]
    }
   ],
   "source": [
    "# so for the first part of the question, we're concerned with the lock_start and lock_end times\n",
    "# let's quickly check the dtypes and then convert to datetime if necessary\n",
    "# print(states.dtypes)\n",
    "\n",
    "states['lock_start'] = pd.to_datetime(states.lock_start)\n",
    "\n",
    "states['lock_end'] = pd.to_datetime(states.lock_end)\n",
    "#states.lock_start.min()\n",
    "requests['started_at'] = pd.to_datetime(requests.started_at)\n",
    "\n",
    "# create a date column to easily group the threads by day\n",
    "states['date'] = states.lock_start.apply(lambda x: x.date())\n",
    "#states['date'] = pd.to_datetime(states.date)\n",
    "\n",
    "# it's important to know the time frame over which we're looking\n",
    "print('This dataset contains thread requests from %s to %s' % \n",
    "          (str(states.date.min()), str(states.date.max())))\n",
    "\n",
    "#states['date'] = pd.to_datetime(states.date)\n"
   ]
  },
  {
   "cell_type": "code",
   "execution_count": 174,
   "metadata": {
    "collapsed": false,
    "scrolled": false
   },
   "outputs": [
    {
     "name": "stdout",
     "output_type": "stream",
     "text": [
      "Mean request time: 43049.77 seconds\n",
      "\n",
      "Max request time: 15447885.0 seconds\n"
     ]
    },
    {
     "data": {
      "text/html": [
       "<div>\n",
       "<style>\n",
       "    .dataframe thead tr:only-child th {\n",
       "        text-align: right;\n",
       "    }\n",
       "\n",
       "    .dataframe thead th {\n",
       "        text-align: left;\n",
       "    }\n",
       "\n",
       "    .dataframe tbody tr th {\n",
       "        vertical-align: top;\n",
       "    }\n",
       "</style>\n",
       "<table border=\"1\" class=\"dataframe\">\n",
       "  <thead>\n",
       "    <tr style=\"text-align: right;\">\n",
       "      <th></th>\n",
       "      <th>message_thread_id</th>\n",
       "      <th>thread_request_id</th>\n",
       "      <th>case</th>\n",
       "      <th>agent_id</th>\n",
       "      <th>lock_start</th>\n",
       "      <th>lock_end</th>\n",
       "      <th>date</th>\n",
       "      <th>elapsed_time</th>\n",
       "    </tr>\n",
       "  </thead>\n",
       "  <tbody>\n",
       "    <tr>\n",
       "      <th>10967</th>\n",
       "      <td>188992</td>\n",
       "      <td>346580</td>\n",
       "      <td>done</td>\n",
       "      <td>2526.0</td>\n",
       "      <td>2016-12-23 05:55:37.041381</td>\n",
       "      <td>2017-06-20 01:00:22.408532</td>\n",
       "      <td>2016-12-23</td>\n",
       "      <td>15447885.0</td>\n",
       "    </tr>\n",
       "    <tr>\n",
       "      <th>30046</th>\n",
       "      <td>207632</td>\n",
       "      <td>353288</td>\n",
       "      <td>done</td>\n",
       "      <td>2525.0</td>\n",
       "      <td>2017-01-06 18:21:59.837852</td>\n",
       "      <td>2017-06-01 13:52:34.076808</td>\n",
       "      <td>2017-01-06</td>\n",
       "      <td>12598234.0</td>\n",
       "    </tr>\n",
       "    <tr>\n",
       "      <th>22301</th>\n",
       "      <td>209419</td>\n",
       "      <td>356607</td>\n",
       "      <td>done</td>\n",
       "      <td>238.0</td>\n",
       "      <td>2017-01-12 17:35:10.207722</td>\n",
       "      <td>2017-06-05 22:56:28.957922</td>\n",
       "      <td>2017-01-12</td>\n",
       "      <td>12460878.0</td>\n",
       "    </tr>\n",
       "    <tr>\n",
       "      <th>37186</th>\n",
       "      <td>211113</td>\n",
       "      <td>359825</td>\n",
       "      <td>done</td>\n",
       "      <td>298.0</td>\n",
       "      <td>2017-01-18 17:21:56.417731</td>\n",
       "      <td>2017-06-10 16:01:19.240266</td>\n",
       "      <td>2017-01-18</td>\n",
       "      <td>12350362.0</td>\n",
       "    </tr>\n",
       "    <tr>\n",
       "      <th>72323</th>\n",
       "      <td>161232</td>\n",
       "      <td>365806</td>\n",
       "      <td>done</td>\n",
       "      <td>2527.0</td>\n",
       "      <td>2017-01-27 23:20:57.904957</td>\n",
       "      <td>2017-06-17 03:32:27.166955</td>\n",
       "      <td>2017-01-27</td>\n",
       "      <td>12111089.0</td>\n",
       "    </tr>\n",
       "  </tbody>\n",
       "</table>\n",
       "</div>"
      ],
      "text/plain": [
       "       message_thread_id  thread_request_id  case  agent_id  \\\n",
       "10967             188992             346580  done    2526.0   \n",
       "30046             207632             353288  done    2525.0   \n",
       "22301             209419             356607  done     238.0   \n",
       "37186             211113             359825  done     298.0   \n",
       "72323             161232             365806  done    2527.0   \n",
       "\n",
       "                      lock_start                   lock_end       date  \\\n",
       "10967 2016-12-23 05:55:37.041381 2017-06-20 01:00:22.408532 2016-12-23   \n",
       "30046 2017-01-06 18:21:59.837852 2017-06-01 13:52:34.076808 2017-01-06   \n",
       "22301 2017-01-12 17:35:10.207722 2017-06-05 22:56:28.957922 2017-01-12   \n",
       "37186 2017-01-18 17:21:56.417731 2017-06-10 16:01:19.240266 2017-01-18   \n",
       "72323 2017-01-27 23:20:57.904957 2017-06-17 03:32:27.166955 2017-01-27   \n",
       "\n",
       "       elapsed_time  \n",
       "10967    15447885.0  \n",
       "30046    12598234.0  \n",
       "22301    12460878.0  \n",
       "37186    12350362.0  \n",
       "72323    12111089.0  "
      ]
     },
     "execution_count": 174,
     "metadata": {},
     "output_type": "execute_result"
    }
   ],
   "source": [
    "# let's make a column of the time elapsed during the thread lock\n",
    "# and convert elapsed time to seconds:\n",
    "\n",
    "# there are a couple cases where lock_end is NaN or happens before the start time, \n",
    "# so make sure we're dealing with that\n",
    "states['elapsed_time'] = np.where(states.lock_end > states.lock_start, \n",
    "                                  pd.to_timedelta(states.lock_end - states.lock_start).astype('timedelta64[s]'), 0)\n",
    "\n",
    "\n",
    "print('Mean request time: %s seconds' % round(states.elapsed_time.mean(), 2))\n",
    "print('\\nMax request time: %s seconds' % str(states.elapsed_time.max()))\n",
    "\n",
    "# as a general note, I'm not sure what lock_start and lock_end mean when the thread status is 'done'\n",
    "# but the longest elapsed_times are all for the 'done' case\n",
    "\n",
    "states.sort_values('elapsed_time', ascending=False)[:5]\n"
   ]
  },
  {
   "cell_type": "code",
   "execution_count": 276,
   "metadata": {
    "collapsed": false
   },
   "outputs": [],
   "source": [
    "# to observe trends over time, let's make a plot of average time locked in thread requests by day \n",
    "import matplotlib.pyplot as plt\n",
    "import matplotlib.dates as mdates\n",
    "%matplotlib inline\n",
    "import seaborn as sns\n",
    "import plotly.graph_objs as go\n",
    "import plotly.plotly as py\n",
    "\n",
    "def make_plot(xx, yy, yax, titl):\n",
    "    fig, ax = plt.subplots(figsize=(10, 8))\n",
    "    \n",
    "    dates = mdates.date2num(list(xx))\n",
    "    plt.plot_date(dates, yy, '-', label=yax)\n",
    "    plt.title(titl, fontsize=20)\n",
    "    plt.ylabel(yax, fontsize=15)\n",
    "    plt.xticks(fontsize=13), plt.yticks(fontsize=13)\n",
    "    plt.legend()\n"
   ]
  },
  {
   "cell_type": "code",
   "execution_count": 231,
   "metadata": {
    "collapsed": false
   },
   "outputs": [
    {
     "data": {
      "image/png": "[encoded data removed]",
      "text/plain": [
       "<matplotlib.figure.Figure at 0x12cb0b4e0>"
      ]
     },
     "metadata": {},
     "output_type": "display_data"
    }
   ],
   "source": [
    "# check the average time locked in thread requests: (we are only concerned with 'locked' threads at the moment)\n",
    "daily_means = states[states.case=='lock'].elapsed_time.groupby(states['date']).mean().reset_index()\n",
    "\n",
    "#daily_means.head()\n",
    "\n",
    "make_plot(daily_means['date'], daily_means['elapsed_time'], 'Lock Time (Seconds)', \n",
    "            'Average Time Locked on Thread Requests (Daily)')"
   ]
  },
  {
   "cell_type": "markdown",
   "metadata": {},
   "source": [
    " ## Hmmm.. what's going on with that spike on June 8th? There must be something funky happening... Let's take a closer look at the outlying elapsed_times. ##"
   ]
  },
  {
   "cell_type": "code",
   "execution_count": 114,
   "metadata": {
    "collapsed": false
   },
   "outputs": [
    {
     "data": {
      "text/html": [
       "<div>\n",
       "<style>\n",
       "    .dataframe thead tr:only-child th {\n",
       "        text-align: right;\n",
       "    }\n",
       "\n",
       "    .dataframe thead th {\n",
       "        text-align: left;\n",
       "    }\n",
       "\n",
       "    .dataframe tbody tr th {\n",
       "        vertical-align: top;\n",
       "    }\n",
       "</style>\n",
       "<table border=\"1\" class=\"dataframe\">\n",
       "  <thead>\n",
       "    <tr style=\"text-align: right;\">\n",
       "      <th></th>\n",
       "      <th>message_thread_id</th>\n",
       "      <th>thread_request_id</th>\n",
       "      <th>case</th>\n",
       "      <th>agent_id</th>\n",
       "      <th>lock_start</th>\n",
       "      <th>lock_end</th>\n",
       "      <th>date</th>\n",
       "      <th>elapsed_time</th>\n",
       "    </tr>\n",
       "  </thead>\n",
       "  <tbody>\n",
       "    <tr>\n",
       "      <th>364064</th>\n",
       "      <td>255100</td>\n",
       "      <td>438281</td>\n",
       "      <td>lock</td>\n",
       "      <td>3811.0</td>\n",
       "      <td>2017-05-23 17:45:44.748568</td>\n",
       "      <td>2017-05-29 23:45:40.050188</td>\n",
       "      <td>2017-05-23</td>\n",
       "      <td>539995.0</td>\n",
       "    </tr>\n",
       "    <tr>\n",
       "      <th>398144</th>\n",
       "      <td>260505</td>\n",
       "      <td>447619</td>\n",
       "      <td>lock</td>\n",
       "      <td>NaN</td>\n",
       "      <td>2017-06-08 17:58:52.213965</td>\n",
       "      <td>2017-06-14 20:52:23.784236</td>\n",
       "      <td>2017-06-08</td>\n",
       "      <td>528811.0</td>\n",
       "    </tr>\n",
       "    <tr>\n",
       "      <th>357735</th>\n",
       "      <td>260498</td>\n",
       "      <td>447612</td>\n",
       "      <td>lock</td>\n",
       "      <td>NaN</td>\n",
       "      <td>2017-06-08 17:58:49.706270</td>\n",
       "      <td>2017-06-14 20:52:20.109197</td>\n",
       "      <td>2017-06-08</td>\n",
       "      <td>528810.0</td>\n",
       "    </tr>\n",
       "    <tr>\n",
       "      <th>403431</th>\n",
       "      <td>260499</td>\n",
       "      <td>447613</td>\n",
       "      <td>lock</td>\n",
       "      <td>NaN</td>\n",
       "      <td>2017-06-08 17:58:50.031653</td>\n",
       "      <td>2017-06-14 20:52:18.893889</td>\n",
       "      <td>2017-06-08</td>\n",
       "      <td>528808.0</td>\n",
       "    </tr>\n",
       "    <tr>\n",
       "      <th>386229</th>\n",
       "      <td>260500</td>\n",
       "      <td>447614</td>\n",
       "      <td>lock</td>\n",
       "      <td>NaN</td>\n",
       "      <td>2017-06-08 17:58:50.336518</td>\n",
       "      <td>2017-06-14 20:52:17.982943</td>\n",
       "      <td>2017-06-08</td>\n",
       "      <td>528807.0</td>\n",
       "    </tr>\n",
       "    <tr>\n",
       "      <th>369394</th>\n",
       "      <td>260484</td>\n",
       "      <td>447598</td>\n",
       "      <td>lock</td>\n",
       "      <td>NaN</td>\n",
       "      <td>2017-06-08 17:58:43.587279</td>\n",
       "      <td>2017-06-14 20:52:09.590698</td>\n",
       "      <td>2017-06-08</td>\n",
       "      <td>528806.0</td>\n",
       "    </tr>\n",
       "    <tr>\n",
       "      <th>401526</th>\n",
       "      <td>260501</td>\n",
       "      <td>447615</td>\n",
       "      <td>lock</td>\n",
       "      <td>NaN</td>\n",
       "      <td>2017-06-08 17:58:50.751936</td>\n",
       "      <td>2017-06-14 20:52:17.199177</td>\n",
       "      <td>2017-06-08</td>\n",
       "      <td>528806.0</td>\n",
       "    </tr>\n",
       "    <tr>\n",
       "      <th>377975</th>\n",
       "      <td>260503</td>\n",
       "      <td>447617</td>\n",
       "      <td>lock</td>\n",
       "      <td>NaN</td>\n",
       "      <td>2017-06-08 17:58:51.358076</td>\n",
       "      <td>2017-06-14 20:52:15.973197</td>\n",
       "      <td>2017-06-08</td>\n",
       "      <td>528804.0</td>\n",
       "    </tr>\n",
       "    <tr>\n",
       "      <th>377974</th>\n",
       "      <td>260486</td>\n",
       "      <td>447600</td>\n",
       "      <td>lock</td>\n",
       "      <td>NaN</td>\n",
       "      <td>2017-06-08 17:58:44.793042</td>\n",
       "      <td>2017-06-14 20:52:08.655692</td>\n",
       "      <td>2017-06-08</td>\n",
       "      <td>528803.0</td>\n",
       "    </tr>\n",
       "    <tr>\n",
       "      <th>401527</th>\n",
       "      <td>260504</td>\n",
       "      <td>447618</td>\n",
       "      <td>lock</td>\n",
       "      <td>NaN</td>\n",
       "      <td>2017-06-08 17:58:51.929603</td>\n",
       "      <td>2017-06-14 20:52:14.894867</td>\n",
       "      <td>2017-06-08</td>\n",
       "      <td>528802.0</td>\n",
       "    </tr>\n",
       "  </tbody>\n",
       "</table>\n",
       "</div>"
      ],
      "text/plain": [
       "        message_thread_id  thread_request_id  case  agent_id  \\\n",
       "364064             255100             438281  lock    3811.0   \n",
       "398144             260505             447619  lock       NaN   \n",
       "357735             260498             447612  lock       NaN   \n",
       "403431             260499             447613  lock       NaN   \n",
       "386229             260500             447614  lock       NaN   \n",
       "369394             260484             447598  lock       NaN   \n",
       "401526             260501             447615  lock       NaN   \n",
       "377975             260503             447617  lock       NaN   \n",
       "377974             260486             447600  lock       NaN   \n",
       "401527             260504             447618  lock       NaN   \n",
       "\n",
       "                       lock_start                   lock_end        date  \\\n",
       "364064 2017-05-23 17:45:44.748568 2017-05-29 23:45:40.050188  2017-05-23   \n",
       "398144 2017-06-08 17:58:52.213965 2017-06-14 20:52:23.784236  2017-06-08   \n",
       "357735 2017-06-08 17:58:49.706270 2017-06-14 20:52:20.109197  2017-06-08   \n",
       "403431 2017-06-08 17:58:50.031653 2017-06-14 20:52:18.893889  2017-06-08   \n",
       "386229 2017-06-08 17:58:50.336518 2017-06-14 20:52:17.982943  2017-06-08   \n",
       "369394 2017-06-08 17:58:43.587279 2017-06-14 20:52:09.590698  2017-06-08   \n",
       "401526 2017-06-08 17:58:50.751936 2017-06-14 20:52:17.199177  2017-06-08   \n",
       "377975 2017-06-08 17:58:51.358076 2017-06-14 20:52:15.973197  2017-06-08   \n",
       "377974 2017-06-08 17:58:44.793042 2017-06-14 20:52:08.655692  2017-06-08   \n",
       "401527 2017-06-08 17:58:51.929603 2017-06-14 20:52:14.894867  2017-06-08   \n",
       "\n",
       "        elapsed_time  \n",
       "364064      539995.0  \n",
       "398144      528811.0  \n",
       "357735      528810.0  \n",
       "403431      528808.0  \n",
       "386229      528807.0  \n",
       "369394      528806.0  \n",
       "401526      528806.0  \n",
       "377975      528804.0  \n",
       "377974      528803.0  \n",
       "401527      528802.0  "
      ]
     },
     "execution_count": 114,
     "metadata": {},
     "output_type": "execute_result"
    }
   ],
   "source": [
    "# check out the longest periods of time threads were locked\n",
    "longest_times = sorted(states[states['case']=='lock'].elapsed_time, reverse=True)[:20]\n",
    "\n",
    "states[states['elapsed_time'].isin(longest_times)].sort_values('elapsed_time', ascending=False).head(10)\n",
    "# as expected, other than one on 5/23, all of the longest times were on june 8th"
   ]
  },
  {
   "cell_type": "markdown",
   "metadata": {},
   "source": [
    "## So, obviously there was some sort of hiccup on 06/08/17 that caused the thread lock times to be way longer than usual. It looks like the issue was resolved on 06/14. Let's take a closer look at June 8th."
   ]
  },
  {
   "cell_type": "code",
   "execution_count": 115,
   "metadata": {
    "collapsed": false,
    "scrolled": true
   },
   "outputs": [
    {
     "data": {
      "text/html": [
       "<div>\n",
       "<style>\n",
       "    .dataframe thead tr:only-child th {\n",
       "        text-align: right;\n",
       "    }\n",
       "\n",
       "    .dataframe thead th {\n",
       "        text-align: left;\n",
       "    }\n",
       "\n",
       "    .dataframe tbody tr th {\n",
       "        vertical-align: top;\n",
       "    }\n",
       "</style>\n",
       "<table border=\"1\" class=\"dataframe\">\n",
       "  <thead>\n",
       "    <tr style=\"text-align: right;\">\n",
       "      <th></th>\n",
       "      <th>thread_request_id</th>\n",
       "      <th>user_id</th>\n",
       "      <th>message_thread_id</th>\n",
       "      <th>time_estimate</th>\n",
       "      <th>started_at</th>\n",
       "      <th>category</th>\n",
       "      <th>category_name</th>\n",
       "    </tr>\n",
       "  </thead>\n",
       "  <tbody>\n",
       "  </tbody>\n",
       "</table>\n",
       "</div>"
      ],
      "text/plain": [
       "Empty DataFrame\n",
       "Columns: [thread_request_id, user_id, message_thread_id, time_estimate, started_at, category, category_name]\n",
       "Index: []"
      ]
     },
     "execution_count": 115,
     "metadata": {},
     "output_type": "execute_result"
    }
   ],
   "source": [
    "# grab the 50 longest lock times on june 8th\n",
    "june_8 = states[(states['date']==pd.Timestamp('2017-06-08')) & (states.case=='lock')] \\\n",
    "                            .sort_values('elapsed_time', ascending=False)[:50] \n",
    "\n",
    "# and see what's going on with those threads in the requests dataframe\n",
    "requests[requests.message_thread_id.isin(june_8.message_thread_id)]\n"
   ]
  },
  {
   "cell_type": "markdown",
   "metadata": {},
   "source": [
    "## The unusually long elapsed_times on June 8th don't seem to have an agent connected with them (from the df snippet above). And the 50 threads with the longest elapsed_time on June 8 aren't in the thread requests dataset at all (empty df directly above). So there's some type of anomaly going on. In order to have our plot make more sense, let's remove the rows from 06/08 that have elapsed_time over 450000 (that seems to be a natural cutoff point)"
   ]
  },
  {
   "cell_type": "code",
   "execution_count": 186,
   "metadata": {
    "collapsed": false
   },
   "outputs": [
    {
     "name": "stdout",
     "output_type": "stream",
     "text": [
      "Mean lock time on June 8th before removing anomalies: 27111.88\n",
      "Mean lock time on June 8th after removing anomalies: 388.68\n"
     ]
    }
   ],
   "source": [
    "print('Mean lock time on June 8th before removing anomalies: %.2f' % \\\n",
    "      states[(states.date==pd.Timestamp('2017-06-08')) & (states.case=='lock')]['elapsed_time'].mean())\n",
    "\n",
    "print('Mean lock time on June 8th after removing anomalies: %.2f' % \\\n",
    "      states[(states.date==pd.Timestamp('2017-06-08')) & (states.case=='lock') & \\\n",
    "             (states.elapsed_time < 450000)]['elapsed_time'].mean())\n"
   ]
  },
  {
   "cell_type": "code",
   "execution_count": 293,
   "metadata": {
    "collapsed": false
   },
   "outputs": [
    {
     "name": "stdout",
     "output_type": "stream",
     "text": [
      "54 rows dropped\n"
     ]
    }
   ],
   "source": [
    "orglen = len(states)\n",
    "\n",
    "states_ = states[~((states.date==pd.Timestamp('2017-06-08')) & (states.case=='lock') \n",
    "                   & (states.elapsed_time > 450000))].copy()\n",
    "\n",
    "print('%s rows dropped' % (orglen - len(states_)))"
   ]
  },
  {
   "cell_type": "code",
   "execution_count": 148,
   "metadata": {
    "collapsed": false
   },
   "outputs": [
    {
     "data": {
      "text/html": [
       "<iframe id=\"igraph\" scrolling=\"no\" style=\"border:none;\" seamless=\"seamless\" src=\"https://plot.ly/~mollyegibson/34.embed\" height=\"525px\" width=\"100%\"></iframe>"
      ],
      "text/plain": [
       "<plotly.tools.PlotlyDisplay object>"
      ]
     },
     "execution_count": 148,
     "metadata": {},
     "output_type": "execute_result"
    }
   ],
   "source": [
    "# now let's redo the plot!\n",
    "\n",
    "# check the average time locked in thread requests: (we are only concerned with 'locked' threads at the moment)\n",
    "daily_means_ = states_[states_.case=='lock'].elapsed_time.groupby(states_['date']).mean().reset_index()\n",
    "#daily_means.head()\n",
    "data_ = [go.Scatter(x=daily_means_['date'], y=daily_means_['elapsed_time'])]\n",
    "\n",
    "layout = go.Layout(\n",
    "    yaxis=dict(title='Lock Time (seconds)'),\n",
    "    title='Average Time Locked on Thread Requests (Daily)',\n",
    "    showlegend = False)\n",
    "\n",
    "fig = go.Figure(data=data_, layout=layout)\n",
    "\n",
    "py.iplot(fig)"
   ]
  },
  {
   "cell_type": "code",
   "execution_count": 180,
   "metadata": {
    "collapsed": false
   },
   "outputs": [
    {
     "data": {
      "text/html": [
       "<iframe id=\"igraph\" scrolling=\"no\" style=\"border:none;\" seamless=\"seamless\" src=\"https://plot.ly/~mollyegibson/38.embed\" height=\"525px\" width=\"100%\"></iframe>"
      ],
      "text/plain": [
       "<plotly.tools.PlotlyDisplay object>"
      ]
     },
     "execution_count": 180,
     "metadata": {},
     "output_type": "execute_result"
    }
   ],
   "source": [
    "\n",
    "# check the sum of time locked in thread requests: (we are only concerned with 'locked' threads at the moment)\n",
    "daily_sums = states_[states_.case=='lock'].elapsed_time.groupby(states_['date']).sum().reset_index()\n",
    "#daily_means.head()\n",
    "data_ = [go.Scatter(x=daily_sums['date'], y=daily_sums['elapsed_time'])]\n",
    "\n",
    "layout = go.Layout(\n",
    "    yaxis=dict(title='Lock Time (seconds)'),\n",
    "    title='Sum of Time Locked on Thread Requests (Daily)',\n",
    "    showlegend = False)\n",
    "\n",
    "fig = go.Figure(data=data_, layout=layout)\n",
    "\n",
    "py.iplot(fig)"
   ]
  },
  {
   "cell_type": "markdown",
   "metadata": {},
   "source": [
    "# Nice! Those plots are a lot more meaningful that the first one. From the chart above, we can see the following trends in time locked on thread requests: \n",
    "\n",
    "## Slightly increasing at the end of 2016 and very beginning of 2017. January '17 stays relatively constant.\n",
    "## From February 2017 to the middle of April '17, mean daily lock time is steadily trending downwards.  \n",
    "## Starting mid-April, mean daily lock time becomes much more volatile. From this, we can infer that the thread requests are becoming more complicated as the team gets faster at completing them. To make sure that the team *is* becoming more efficient, let's check out the weekly averages/sums."
   ]
  },
  {
   "cell_type": "code",
   "execution_count": 170,
   "metadata": {
    "collapsed": true
   },
   "outputs": [
    {
     "data": {
      "text/html": [
       "<iframe id=\"igraph\" scrolling=\"no\" style=\"border:none;\" seamless=\"seamless\" src=\"https://plot.ly/~mollyegibson/36.embed\" height=\"525px\" width=\"100%\"></iframe>"
      ],
      "text/plain": [
       "<plotly.tools.PlotlyDisplay object>"
      ]
     },
     "execution_count": 170,
     "metadata": {},
     "output_type": "execute_result"
    }
   ],
   "source": [
    "\n",
    "cpy = states_.copy().set_index('date')\n",
    "\n",
    "weekly_means = cpy[['elapsed_time']].resample('W-MON').mean().reset_index()\n",
    "\n",
    "wdata = [go.Scatter(x=weekly_means['date'], y=weekly_means['elapsed_time'])]\n",
    "\n",
    "wlayout = go.Layout(\n",
    "    yaxis=dict(title='Lock Time (seconds)'),\n",
    "    title='Average Time Locked on Thread Requests (Weekly)',\n",
    "    showlegend = False)\n",
    "\n",
    "fig = go.Figure(data=wdata, layout=wlayout)\n",
    "\n",
    "py.iplot(fig)\n"
   ]
  },
  {
   "cell_type": "code",
   "execution_count": 182,
   "metadata": {
    "collapsed": false
   },
   "outputs": [
    {
     "data": {
      "text/html": [
       "<iframe id=\"igraph\" scrolling=\"no\" style=\"border:none;\" seamless=\"seamless\" src=\"https://plot.ly/~mollyegibson/42.embed\" height=\"525px\" width=\"100%\"></iframe>"
      ],
      "text/plain": [
       "<plotly.tools.PlotlyDisplay object>"
      ]
     },
     "execution_count": 182,
     "metadata": {},
     "output_type": "execute_result"
    }
   ],
   "source": [
    "cpy = states_.copy().set_index('date')\n",
    "\n",
    "weekly_sums = cpy[['elapsed_time']].resample('W-MON').sum().reset_index()\n",
    "\n",
    "data = [go.Scatter(x=weekly_sums['date'], y=weekly_sums['elapsed_time'])]\n",
    "\n",
    "layout = go.Layout(\n",
    "    yaxis=dict(title='Lock Time (seconds)'),\n",
    "    title='Sum of Time Locked on Thread Requests (Weekly)',\n",
    "    showlegend = False)\n",
    "\n",
    "fig = go.Figure(data=data, layout=layout)\n",
    "\n",
    "py.iplot(fig)"
   ]
  },
  {
   "cell_type": "markdown",
   "metadata": {},
   "source": [
    "# From the weekly average lock times, we can look at changes over time in a more macro sense:\n",
    "## The times were indeed steadily decreasing from February to mid-April. \n",
    "## Some factor in mid-April caused the time locked on thread requests to jump higher than they've been since before 2017. There was a spike on the week of April 17th, then they slightly recovered in the next couple weeks before mid-May when they jump higher still. My best guess is that some type of more complicated functionality was released in April, and thus some of the thread requests started taking much longer.\n",
    "## In the week of May 22, the weekly time spent begins to decrease rapidly. The team must've figured out a way to handle the more complicated requests ! :)"
   ]
  },
  {
   "cell_type": "markdown",
   "metadata": {},
   "source": [
    "\n",
    "# Now let's check out the time spent on 'pause'!\n",
    "## The question asks if we're pausing more or less over time, which could mean a) number of pauses or b) aggregate time spent paused. To get the aggregate time, we simply repeat the steps taken above, but only where case='paused'. Let's do that first."
   ]
  },
  {
   "cell_type": "code",
   "execution_count": 183,
   "metadata": {
    "collapsed": false
   },
   "outputs": [
    {
     "data": {
      "text/html": [
       "<iframe id=\"igraph\" scrolling=\"no\" style=\"border:none;\" seamless=\"seamless\" src=\"https://plot.ly/~mollyegibson/44.embed\" height=\"525px\" width=\"100%\"></iframe>"
      ],
      "text/plain": [
       "<plotly.tools.PlotlyDisplay object>"
      ]
     },
     "execution_count": 183,
     "metadata": {},
     "output_type": "execute_result"
    }
   ],
   "source": [
    "\n",
    "# check the sum of time paused during thread requests: (now we are only concerned with 'paused' threads)\n",
    "daily_sums = states[states.case=='paused'].elapsed_time.groupby(states['date']).sum().reset_index()\n",
    "\n",
    "data = [go.Scatter(x=daily_sums['date'], y=daily_sums['elapsed_time'])]\n",
    "\n",
    "layout = go.Layout(\n",
    "    yaxis=dict(title='Pause Time (seconds)'),\n",
    "    title='Sum of Time Paused During Thread Requests (Daily)',\n",
    "    showlegend = False)\n",
    "\n",
    "fig = go.Figure(data=data, layout=layout)\n",
    "\n",
    "py.iplot(fig)"
   ]
  },
  {
   "cell_type": "code",
   "execution_count": 185,
   "metadata": {
    "collapsed": false
   },
   "outputs": [
    {
     "data": {
      "text/html": [
       "<div>\n",
       "<style>\n",
       "    .dataframe thead tr:only-child th {\n",
       "        text-align: right;\n",
       "    }\n",
       "\n",
       "    .dataframe thead th {\n",
       "        text-align: left;\n",
       "    }\n",
       "\n",
       "    .dataframe tbody tr th {\n",
       "        vertical-align: top;\n",
       "    }\n",
       "</style>\n",
       "<table border=\"1\" class=\"dataframe\">\n",
       "  <thead>\n",
       "    <tr style=\"text-align: right;\">\n",
       "      <th></th>\n",
       "      <th>message_thread_id</th>\n",
       "      <th>thread_request_id</th>\n",
       "      <th>case</th>\n",
       "      <th>agent_id</th>\n",
       "      <th>lock_start</th>\n",
       "      <th>lock_end</th>\n",
       "      <th>date</th>\n",
       "      <th>elapsed_time</th>\n",
       "    </tr>\n",
       "  </thead>\n",
       "  <tbody>\n",
       "    <tr>\n",
       "      <th>297258</th>\n",
       "      <td>247461</td>\n",
       "      <td>424932</td>\n",
       "      <td>paused</td>\n",
       "      <td>2301.0</td>\n",
       "      <td>2017-05-03 19:57:14.203277</td>\n",
       "      <td>2017-06-09 22:46:25.466899</td>\n",
       "      <td>2017-05-03</td>\n",
       "      <td>3206951.0</td>\n",
       "    </tr>\n",
       "    <tr>\n",
       "      <th>363189</th>\n",
       "      <td>256185</td>\n",
       "      <td>440011</td>\n",
       "      <td>paused</td>\n",
       "      <td>2494.0</td>\n",
       "      <td>2017-05-25 23:45:03.498930</td>\n",
       "      <td>2017-06-09 22:44:43.553868</td>\n",
       "      <td>2017-05-25</td>\n",
       "      <td>1292380.0</td>\n",
       "    </tr>\n",
       "    <tr>\n",
       "      <th>361604</th>\n",
       "      <td>257705</td>\n",
       "      <td>442792</td>\n",
       "      <td>paused</td>\n",
       "      <td>3226.0</td>\n",
       "      <td>2017-06-02 02:08:52.576829</td>\n",
       "      <td>2017-06-09 22:45:05.265793</td>\n",
       "      <td>2017-06-02</td>\n",
       "      <td>678972.0</td>\n",
       "    </tr>\n",
       "    <tr>\n",
       "      <th>396527</th>\n",
       "      <td>261101</td>\n",
       "      <td>448611</td>\n",
       "      <td>paused</td>\n",
       "      <td>2527.0</td>\n",
       "      <td>2017-06-10 13:56:30.458359</td>\n",
       "      <td>2017-06-13 00:57:24.240980</td>\n",
       "      <td>2017-06-10</td>\n",
       "      <td>212453.0</td>\n",
       "    </tr>\n",
       "    <tr>\n",
       "      <th>379540</th>\n",
       "      <td>261212</td>\n",
       "      <td>448787</td>\n",
       "      <td>paused</td>\n",
       "      <td>2494.0</td>\n",
       "      <td>2017-06-10 21:33:47.414649</td>\n",
       "      <td>2017-06-13 00:57:24.065070</td>\n",
       "      <td>2017-06-10</td>\n",
       "      <td>185016.0</td>\n",
       "    </tr>\n",
       "    <tr>\n",
       "      <th>384648</th>\n",
       "      <td>261269</td>\n",
       "      <td>448867</td>\n",
       "      <td>paused</td>\n",
       "      <td>3226.0</td>\n",
       "      <td>2017-06-11 01:41:33.431135</td>\n",
       "      <td>2017-06-13 00:57:23.893756</td>\n",
       "      <td>2017-06-11</td>\n",
       "      <td>170150.0</td>\n",
       "    </tr>\n",
       "    <tr>\n",
       "      <th>373763</th>\n",
       "      <td>261035</td>\n",
       "      <td>448986</td>\n",
       "      <td>paused</td>\n",
       "      <td>2527.0</td>\n",
       "      <td>2017-06-11 14:13:14.810226</td>\n",
       "      <td>2017-06-13 00:57:23.712351</td>\n",
       "      <td>2017-06-11</td>\n",
       "      <td>125048.0</td>\n",
       "    </tr>\n",
       "    <tr>\n",
       "      <th>401825</th>\n",
       "      <td>261368</td>\n",
       "      <td>449039</td>\n",
       "      <td>paused</td>\n",
       "      <td>238.0</td>\n",
       "      <td>2017-06-11 17:02:30.441748</td>\n",
       "      <td>2017-06-13 00:57:23.513349</td>\n",
       "      <td>2017-06-11</td>\n",
       "      <td>114893.0</td>\n",
       "    </tr>\n",
       "    <tr>\n",
       "      <th>370563</th>\n",
       "      <td>259472</td>\n",
       "      <td>447409</td>\n",
       "      <td>paused</td>\n",
       "      <td>2526.0</td>\n",
       "      <td>2017-06-09 00:16:19.543510</td>\n",
       "      <td>2017-06-09 22:45:26.458602</td>\n",
       "      <td>2017-06-09</td>\n",
       "      <td>80946.0</td>\n",
       "    </tr>\n",
       "    <tr>\n",
       "      <th>393427</th>\n",
       "      <td>252327</td>\n",
       "      <td>447464</td>\n",
       "      <td>paused</td>\n",
       "      <td>2524.0</td>\n",
       "      <td>2017-06-09 02:46:35.521896</td>\n",
       "      <td>2017-06-09 22:40:06.645672</td>\n",
       "      <td>2017-06-09</td>\n",
       "      <td>71611.0</td>\n",
       "    </tr>\n",
       "  </tbody>\n",
       "</table>\n",
       "</div>"
      ],
      "text/plain": [
       "        message_thread_id  thread_request_id    case  agent_id  \\\n",
       "297258             247461             424932  paused    2301.0   \n",
       "363189             256185             440011  paused    2494.0   \n",
       "361604             257705             442792  paused    3226.0   \n",
       "396527             261101             448611  paused    2527.0   \n",
       "379540             261212             448787  paused    2494.0   \n",
       "384648             261269             448867  paused    3226.0   \n",
       "373763             261035             448986  paused    2527.0   \n",
       "401825             261368             449039  paused     238.0   \n",
       "370563             259472             447409  paused    2526.0   \n",
       "393427             252327             447464  paused    2524.0   \n",
       "\n",
       "                       lock_start                   lock_end       date  \\\n",
       "297258 2017-05-03 19:57:14.203277 2017-06-09 22:46:25.466899 2017-05-03   \n",
       "363189 2017-05-25 23:45:03.498930 2017-06-09 22:44:43.553868 2017-05-25   \n",
       "361604 2017-06-02 02:08:52.576829 2017-06-09 22:45:05.265793 2017-06-02   \n",
       "396527 2017-06-10 13:56:30.458359 2017-06-13 00:57:24.240980 2017-06-10   \n",
       "379540 2017-06-10 21:33:47.414649 2017-06-13 00:57:24.065070 2017-06-10   \n",
       "384648 2017-06-11 01:41:33.431135 2017-06-13 00:57:23.893756 2017-06-11   \n",
       "373763 2017-06-11 14:13:14.810226 2017-06-13 00:57:23.712351 2017-06-11   \n",
       "401825 2017-06-11 17:02:30.441748 2017-06-13 00:57:23.513349 2017-06-11   \n",
       "370563 2017-06-09 00:16:19.543510 2017-06-09 22:45:26.458602 2017-06-09   \n",
       "393427 2017-06-09 02:46:35.521896 2017-06-09 22:40:06.645672 2017-06-09   \n",
       "\n",
       "        elapsed_time  \n",
       "297258     3206951.0  \n",
       "363189     1292380.0  \n",
       "361604      678972.0  \n",
       "396527      212453.0  \n",
       "379540      185016.0  \n",
       "384648      170150.0  \n",
       "373763      125048.0  \n",
       "401825      114893.0  \n",
       "370563       80946.0  \n",
       "393427       71611.0  "
      ]
     },
     "execution_count": 185,
     "metadata": {},
     "output_type": "execute_result"
    }
   ],
   "source": [
    "# now check out the longest periods of time threads were paused; we'll want to remove the outliers again\n",
    "# so we can have a more meaningful plot\n",
    "longest_pauses = sorted(states[states['case']=='paused'].elapsed_time, reverse=True)[:20]\n",
    "\n",
    "states[states['elapsed_time'].isin(longest_pauses)].sort_values('elapsed_time', ascending=False).head(10)"
   ]
  },
  {
   "cell_type": "code",
   "execution_count": 191,
   "metadata": {
    "collapsed": false
   },
   "outputs": [
    {
     "name": "stdout",
     "output_type": "stream",
     "text": [
      "3 rows dropped\n"
     ]
    }
   ],
   "source": [
    "# so let's remove these outliers, using the same threshold as earlier: 450k\n",
    "orglen = len(states)\n",
    "\n",
    "states_droppause = states[~((states.case=='paused') & (states.elapsed_time > 450000))]\n",
    "\n",
    "print('%s rows dropped' % (orglen - len(states_droppause)))"
   ]
  },
  {
   "cell_type": "code",
   "execution_count": 188,
   "metadata": {
    "collapsed": false
   },
   "outputs": [
    {
     "data": {
      "text/html": [
       "<iframe id=\"igraph\" scrolling=\"no\" style=\"border:none;\" seamless=\"seamless\" src=\"https://plot.ly/~mollyegibson/46.embed\" height=\"525px\" width=\"100%\"></iframe>"
      ],
      "text/plain": [
       "<plotly.tools.PlotlyDisplay object>"
      ]
     },
     "execution_count": 188,
     "metadata": {},
     "output_type": "execute_result"
    }
   ],
   "source": [
    "daily_sums = states_droppause[states_droppause.case=='paused'] \\\n",
    "                    .elapsed_time.groupby(states_droppause['date']).sum().reset_index()\n",
    "\n",
    "data = [go.Scatter(x=daily_sums['date'], y=daily_sums['elapsed_time'])]\n",
    "\n",
    "layout = go.Layout(\n",
    "    yaxis=dict(title='Pause Time (seconds)'),\n",
    "    title='Sum of Time Paused During Thread Requests (Daily)',\n",
    "    showlegend = False)\n",
    "\n",
    "fig = go.Figure(data=data, layout=layout)\n",
    "\n",
    "py.iplot(fig)"
   ]
  },
  {
   "cell_type": "markdown",
   "metadata": {},
   "source": [
    "## The spike in pause times on 06/09-06/12 corresponds with the period that had very long response times, which makes sense. The server could've gone down or some other large maintenance issue that stopped the normal flow of work, so the team put their requests on pause, thus delaying lock times.\n",
    "\n",
    "## Otherwise, the sum of time spent paused seems to steadily increase from January '17 to the beginning of June. After the large spike, they start to decline again."
   ]
  },
  {
   "cell_type": "code",
   "execution_count": 190,
   "metadata": {
    "collapsed": false
   },
   "outputs": [
    {
     "data": {
      "text/html": [
       "<iframe id=\"igraph\" scrolling=\"no\" style=\"border:none;\" seamless=\"seamless\" src=\"https://plot.ly/~mollyegibson/48.embed\" height=\"525px\" width=\"100%\"></iframe>"
      ],
      "text/plain": [
       "<plotly.tools.PlotlyDisplay object>"
      ]
     },
     "execution_count": 190,
     "metadata": {},
     "output_type": "execute_result"
    }
   ],
   "source": [
    "daily_pause_count = states_[states_.case=='paused'].elapsed_time.groupby(states_['date']).count().reset_index()\n",
    "\n",
    "data = [go.Scatter(x=daily_pause_count['date'], y=daily_pause_count['elapsed_time'])]\n",
    "\n",
    "layout = go.Layout(\n",
    "    yaxis=dict(title='Number of Pauses (Daily)'),\n",
    "    title='Number of Pauses During Thread Requests (Daily)',\n",
    "    showlegend = False)\n",
    "\n",
    "fig = go.Figure(data=data, layout=layout)\n",
    "\n",
    "py.iplot(fig)"
   ]
  },
  {
   "cell_type": "markdown",
   "metadata": {},
   "source": [
    "## When looking at the *number* of pauses, we also see a steady incline until June, when we start to see the number decreasing. This is consistent with the summed pause time plot above."
   ]
  },
  {
   "cell_type": "markdown",
   "metadata": {},
   "source": [
    "# Question 2:\n",
    "## What can you tell us about our users?\n",
    "### In order to look into user engagement, first we have to define it. In this context, one way to measure user engagement is by counting the number of users who make thread requests in a day (or week).  Let's start by doing a daily count of users who started requests.\n"
   ]
  },
  {
   "cell_type": "code",
   "execution_count": 192,
   "metadata": {
    "collapsed": false
   },
   "outputs": [
    {
     "name": "stdout",
     "output_type": "stream",
     "text": [
      "Number of total users in the dataset: 1020\n"
     ]
    }
   ],
   "source": [
    "print('Number of total users in the dataset: %s' % len(requests.user_id.unique()))"
   ]
  },
  {
   "cell_type": "code",
   "execution_count": 285,
   "metadata": {
    "collapsed": false
   },
   "outputs": [
    {
     "data": {
      "text/html": [
       "<div>\n",
       "<style>\n",
       "    .dataframe thead tr:only-child th {\n",
       "        text-align: right;\n",
       "    }\n",
       "\n",
       "    .dataframe thead th {\n",
       "        text-align: left;\n",
       "    }\n",
       "\n",
       "    .dataframe tbody tr th {\n",
       "        vertical-align: top;\n",
       "    }\n",
       "</style>\n",
       "<table border=\"1\" class=\"dataframe\">\n",
       "  <thead>\n",
       "    <tr style=\"text-align: right;\">\n",
       "      <th></th>\n",
       "      <th>date</th>\n",
       "      <th>num_requests</th>\n",
       "      <th>num_users</th>\n",
       "    </tr>\n",
       "  </thead>\n",
       "  <tbody>\n",
       "    <tr>\n",
       "      <th>0</th>\n",
       "      <td>2016-12-22</td>\n",
       "      <td>154</td>\n",
       "      <td>66</td>\n",
       "    </tr>\n",
       "    <tr>\n",
       "      <th>1</th>\n",
       "      <td>2016-12-23</td>\n",
       "      <td>426</td>\n",
       "      <td>120</td>\n",
       "    </tr>\n",
       "    <tr>\n",
       "      <th>2</th>\n",
       "      <td>2016-12-24</td>\n",
       "      <td>265</td>\n",
       "      <td>91</td>\n",
       "    </tr>\n",
       "    <tr>\n",
       "      <th>3</th>\n",
       "      <td>2016-12-25</td>\n",
       "      <td>185</td>\n",
       "      <td>89</td>\n",
       "    </tr>\n",
       "    <tr>\n",
       "      <th>4</th>\n",
       "      <td>2016-12-26</td>\n",
       "      <td>221</td>\n",
       "      <td>101</td>\n",
       "    </tr>\n",
       "  </tbody>\n",
       "</table>\n",
       "</div>"
      ],
      "text/plain": [
       "        date  num_requests  num_users\n",
       "0 2016-12-22           154         66\n",
       "1 2016-12-23           426        120\n",
       "2 2016-12-24           265         91\n",
       "3 2016-12-25           185         89\n",
       "4 2016-12-26           221        101"
      ]
     },
     "execution_count": 285,
     "metadata": {},
     "output_type": "execute_result"
    }
   ],
   "source": [
    "# first we'll need to change the started_at column to datetime and then parse out the days so we can group by that\n",
    "requests['date'] = pd.to_datetime(requests.started_at.apply(lambda x: x.date()))\n",
    "\n",
    "# then let's count the number of requests each day and the number of unique users making requests\n",
    "daily_active_users = requests[['date', 'user_id', 'thread_request_id']].groupby('date') \\\n",
    "                                        .agg({'thread_request_id': 'count','user_id': pd.Series.nunique}) \\\n",
    "                                        .reset_index() \\\n",
    "                                        .rename(columns={'thread_request_id':'num_requests', 'user_id': 'num_users'})\n",
    "            \n",
    "daily_active_users.head()"
   ]
  },
  {
   "cell_type": "code",
   "execution_count": 248,
   "metadata": {
    "collapsed": false
   },
   "outputs": [
    {
     "data": {
      "image/png": "[encoded data removed]",
      "text/plain": [
       "<matplotlib.figure.Figure at 0x123a6bbe0>"
      ]
     },
     "metadata": {},
     "output_type": "display_data"
    }
   ],
   "source": [
    "make_plot(daily_active_users['date'], daily_active_users['num_users'], \n",
    "          'Number of Users', 'Number of Active Users (Daily)')"
   ]
  },
  {
   "cell_type": "markdown",
   "metadata": {},
   "source": [
    "## There's clearly an upward trend in daily active users over the given time period. In the past few months, the number of users making requests has been hovering around 150 per day.\n",
    "## User engagement is, predictably, volatile on a daily basis, because there are lots of factors that would influence a user's need for Fin. Weekends most likely have less activity than weekdays. "
   ]
  },
  {
   "cell_type": "code",
   "execution_count": 290,
   "metadata": {
    "collapsed": false,
    "scrolled": false
   },
   "outputs": [
    {
     "data": {
      "image/png": "[encoded data removed]",
      "text/plain": [
       "<matplotlib.figure.Figure at 0x135e9f8d0>"
      ]
     },
     "metadata": {},
     "output_type": "display_data"
    }
   ],
   "source": [
    "# Let's check out the number of active users on a weekly basis\n",
    "# dau = daily_active_users.copy().set_index('date')\n",
    "\n",
    "# #weekly_users = dau[['num_users', 'num_requests']].resample('W-MON').sum().reset_index()\n",
    "\n",
    "wkly = requests.copy().set_index('date')\n",
    "\n",
    "weekly_users = wkly[['user_id', 'thread_request_id']].resample('W-MON') \\\n",
    "                                        .agg({'thread_request_id': 'count','user_id': pd.Series.nunique}) \\\n",
    "                                        .reset_index()\n",
    "\n",
    "make_plot(weekly_users['date'], weekly_users['user_id'], 'Number of Users', 'Number of Active Users (Weekly)')\n",
    "\n",
    "#len(weekly_users['num_users'])"
   ]
  },
  {
   "cell_type": "code",
   "execution_count": 291,
   "metadata": {
    "collapsed": false
   },
   "outputs": [
    {
     "data": {
      "text/plain": [
       "<matplotlib.legend.Legend at 0x1451515c0>"
      ]
     },
     "execution_count": 291,
     "metadata": {},
     "output_type": "execute_result"
    },
    {
     "data": {
      "image/png": "[encoded data removed]",
      "text/plain": [
       "<matplotlib.figure.Figure at 0x145162898>"
      ]
     },
     "metadata": {},
     "output_type": "display_data"
    }
   ],
   "source": [
    "fig, ax = plt.subplots(figsize=(10, 8))\n",
    "    \n",
    "dates = mdates.date2num(list(weekly_users['date']))\n",
    "\n",
    "plt.plot_date(dates, weekly_users['user_id'], '-', label='Number of Users')\n",
    "plt.plot_date(dates, weekly_users['thread_request_id'], '-', label='Number of Requests')\n",
    "plt.title('Number of Weekly Requests, Weekly Active Users', fontsize=20)\n",
    "plt.ylabel('Number of Users, Requests', fontsize=15)\n",
    "plt.xticks(fontsize=13), plt.yticks(fontsize=13)\n",
    "plt.legend(fontsize=15)\n"
   ]
  },
  {
   "cell_type": "code",
   "execution_count": 295,
   "metadata": {
    "collapsed": false
   },
   "outputs": [
    {
     "data": {
      "text/html": [
       "<div>\n",
       "<style>\n",
       "    .dataframe thead tr:only-child th {\n",
       "        text-align: right;\n",
       "    }\n",
       "\n",
       "    .dataframe thead th {\n",
       "        text-align: left;\n",
       "    }\n",
       "\n",
       "    .dataframe tbody tr th {\n",
       "        vertical-align: top;\n",
       "    }\n",
       "</style>\n",
       "<table border=\"1\" class=\"dataframe\">\n",
       "  <thead>\n",
       "    <tr style=\"text-align: right;\">\n",
       "      <th></th>\n",
       "      <th>date</th>\n",
       "      <th>thread_request_id</th>\n",
       "      <th>user_id</th>\n",
       "    </tr>\n",
       "  </thead>\n",
       "  <tbody>\n",
       "    <tr>\n",
       "      <th>22</th>\n",
       "      <td>2017-05-29</td>\n",
       "      <td>2421</td>\n",
       "      <td>253</td>\n",
       "    </tr>\n",
       "    <tr>\n",
       "      <th>23</th>\n",
       "      <td>2017-06-05</td>\n",
       "      <td>2474</td>\n",
       "      <td>257</td>\n",
       "    </tr>\n",
       "    <tr>\n",
       "      <th>24</th>\n",
       "      <td>2017-06-12</td>\n",
       "      <td>2622</td>\n",
       "      <td>321</td>\n",
       "    </tr>\n",
       "    <tr>\n",
       "      <th>25</th>\n",
       "      <td>2017-06-19</td>\n",
       "      <td>2698</td>\n",
       "      <td>331</td>\n",
       "    </tr>\n",
       "    <tr>\n",
       "      <th>26</th>\n",
       "      <td>2017-06-26</td>\n",
       "      <td>176</td>\n",
       "      <td>85</td>\n",
       "    </tr>\n",
       "  </tbody>\n",
       "</table>\n",
       "</div>"
      ],
      "text/plain": [
       "         date  thread_request_id  user_id\n",
       "22 2017-05-29               2421      253\n",
       "23 2017-06-05               2474      257\n",
       "24 2017-06-12               2622      321\n",
       "25 2017-06-19               2698      331\n",
       "26 2017-06-26                176       85"
      ]
     },
     "execution_count": 295,
     "metadata": {},
     "output_type": "execute_result"
    }
   ],
   "source": [
    "\n",
    "weekly_users.tail()"
   ]
  },
  {
   "cell_type": "markdown",
   "metadata": {},
   "source": [
    "## Number of weekly users has been steadily increasing as well; it remains pretty steady as the number of requests jumps around. Both active users and requests have a dip in 06/17, which probably corresponds to the aforementioned event near the beginning of June. \n",
    "## We've been seeing around 300 engaged users on a weekly basis for the last month in the dataset. There's a sharp dropoff at the end of the plot, presumably because we don't have all of the days in the last week."
   ]
  },
  {
   "cell_type": "markdown",
   "metadata": {},
   "source": [
    "# Closing Remarks\n",
    "## I was using plotly because I like the ability to scroll over the plots and see each individual day, but then I used up my plotly free trial and switched to matplotlib. Please excuse the inconsistency! "
   ]
  }
 ],
 "metadata": {
  "kernelspec": {
   "display_name": "Python 3",
   "language": "python",
   "name": "python3"
  },
  "language_info": {
   "codemirror_mode": {
    "name": "ipython",
    "version": 3
   },
   "file_extension": ".py",
   "mimetype": "text/x-python",
   "name": "python",
   "nbconvert_exporter": "python",
   "pygments_lexer": "ipython3",
   "version": "3.6.0"
  }
 },
 "nbformat": 4,
 "nbformat_minor": 2
}
