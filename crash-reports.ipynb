{
 "cells": [
  {
   "cell_type": "code",
   "execution_count": 8,
   "metadata": {
    "collapsed": false
   },
   "outputs": [
    {
     "data": {
      "text/html": [
       "<div>\n",
       "<table border=\"1\" class=\"dataframe\">\n",
       "  <thead>\n",
       "    <tr style=\"text-align: right;\">\n",
       "      <th></th>\n",
       "      <th>crashID</th>\n",
       "      <th>date</th>\n",
       "      <th>time</th>\n",
       "      <th>county</th>\n",
       "      <th>location</th>\n",
       "    </tr>\n",
       "  </thead>\n",
       "  <tbody>\n",
       "    <tr>\n",
       "      <th>0</th>\n",
       "      <td>130000325</td>\n",
       "      <td>01/01/2013</td>\n",
       "      <td>1:30AM</td>\n",
       "      <td>DOUGLAS</td>\n",
       "      <td>HIGHWAY N, 3 MILES SOUTH OF SQUIRES</td>\n",
       "    </tr>\n",
       "    <tr>\n",
       "      <th>1</th>\n",
       "      <td>130002611</td>\n",
       "      <td>01/02/2013</td>\n",
       "      <td>3:45PM</td>\n",
       "      <td>LEWIS</td>\n",
       "      <td>3RD AND CLARK STREET IN CANTON</td>\n",
       "    </tr>\n",
       "    <tr>\n",
       "      <th>2</th>\n",
       "      <td>130005274</td>\n",
       "      <td>01/03/2013</td>\n",
       "      <td>11:35PM</td>\n",
       "      <td>JASPER</td>\n",
       "      <td>ROUTE E AT CR 118 - 1 MILE EAST OF CARTHAGE</td>\n",
       "    </tr>\n",
       "    <tr>\n",
       "      <th>3</th>\n",
       "      <td>130009936</td>\n",
       "      <td>01/05/2013</td>\n",
       "      <td>11:25PM</td>\n",
       "      <td>ST. LOUIS</td>\n",
       "      <td>WESTBOUND I-270 EAST OF ROUTE N</td>\n",
       "    </tr>\n",
       "    <tr>\n",
       "      <th>4</th>\n",
       "      <td>130010983</td>\n",
       "      <td>01/06/2013</td>\n",
       "      <td>2:15PM</td>\n",
       "      <td>PIKE</td>\n",
       "      <td>US 54 AT ROUTE U</td>\n",
       "    </tr>\n",
       "  </tbody>\n",
       "</table>\n",
       "</div>"
      ],
      "text/plain": [
       "      crashID          date       time       county  \\\n",
       "0  130000325    01/01/2013     1:30AM      DOUGLAS    \n",
       "1  130002611    01/02/2013     3:45PM        LEWIS    \n",
       "2  130005274    01/03/2013    11:35PM       JASPER    \n",
       "3  130009936    01/05/2013    11:25PM    ST. LOUIS    \n",
       "4  130010983    01/06/2013     2:15PM         PIKE    \n",
       "\n",
       "                                        location  \n",
       "0           HIGHWAY N, 3 MILES SOUTH OF SQUIRES   \n",
       "1                3RD AND CLARK STREET IN CANTON   \n",
       "2   ROUTE E AT CR 118 - 1 MILE EAST OF CARTHAGE   \n",
       "3               WESTBOUND I-270 EAST OF ROUTE N   \n",
       "4                              US 54 AT ROUTE U   "
      ]
     },
     "execution_count": 8,
     "metadata": {},
     "output_type": "execute_result"
    }
   ],
   "source": [
    "# Crash Report 2013 data from Professor Miller\n",
    "\n",
    "import pandas as pd\n",
    "import numpy as np\n",
    "\n",
    "#each element in crashes is a list of each category in the crash report\n",
    "#cant automatically pull the delimited file into a dataframe because they have all have different number of categories\n",
    "# (bc different number of people/vehicles in the different accidents)\n",
    "crashes = []\n",
    "\n",
    "with open(\"fatals2013.txt\") as f:\n",
    "    #content = f.readlines()\n",
    "    for line in f:\n",
    "        b = line.split(\"|\")  # split line into a list of each category\n",
    "        c = b[0:7]  \n",
    "        crashes.append(c)\n",
    "\n",
    "crashdf = pd.DataFrame(crashes)\n",
    "\n",
    "# we'll want to separate data into different DBs\n",
    "crashdf.columns = ['crashID','StateTrooper','ID2','date','time','county','location']\n",
    "\n",
    "crashdf = crashdf.drop(['StateTrooper','ID2'], axis=1)\n",
    "\n",
    "\n",
    "crashdf.head()\n",
    "# you may also want to remove whitespace characters like `\\n` at the end of each line\n",
    "#content = [x.strip() for x in content] \n",
    "\n",
    "\n",
    "\n",
    "\n",
    "#testline[0]"
   ]
  },
  {
   "cell_type": "code",
   "execution_count": 53,
   "metadata": {
    "collapsed": false
   },
   "outputs": [
    {
     "data": {
      "text/html": [
       "<div>\n",
       "<table border=\"1\" class=\"dataframe\">\n",
       "  <thead>\n",
       "    <tr style=\"text-align: right;\">\n",
       "      <th></th>\n",
       "      <th>crashID</th>\n",
       "      <th>date</th>\n",
       "      <th>time</th>\n",
       "      <th>county</th>\n",
       "      <th>ccode</th>\n",
       "      <th>fips</th>\n",
       "    </tr>\n",
       "  </thead>\n",
       "  <tbody>\n",
       "    <tr>\n",
       "      <th>0</th>\n",
       "      <td>130000325</td>\n",
       "      <td>01/01/2013</td>\n",
       "      <td>1:30AM</td>\n",
       "      <td>DOUGLAS</td>\n",
       "      <td>067</td>\n",
       "      <td>29067</td>\n",
       "    </tr>\n",
       "    <tr>\n",
       "      <th>1</th>\n",
       "      <td>130002611</td>\n",
       "      <td>01/02/2013</td>\n",
       "      <td>3:45PM</td>\n",
       "      <td>LEWIS</td>\n",
       "      <td>111</td>\n",
       "      <td>29111</td>\n",
       "    </tr>\n",
       "    <tr>\n",
       "      <th>2</th>\n",
       "      <td>130005274</td>\n",
       "      <td>01/03/2013</td>\n",
       "      <td>11:35PM</td>\n",
       "      <td>JASPER</td>\n",
       "      <td>097</td>\n",
       "      <td>29097</td>\n",
       "    </tr>\n",
       "    <tr>\n",
       "      <th>3</th>\n",
       "      <td>130009936</td>\n",
       "      <td>01/05/2013</td>\n",
       "      <td>11:25PM</td>\n",
       "      <td>ST. LOUIS</td>\n",
       "      <td>189</td>\n",
       "      <td>29189</td>\n",
       "    </tr>\n",
       "    <tr>\n",
       "      <th>4</th>\n",
       "      <td>130010983</td>\n",
       "      <td>01/06/2013</td>\n",
       "      <td>2:15PM</td>\n",
       "      <td>PIKE</td>\n",
       "      <td>163</td>\n",
       "      <td>29163</td>\n",
       "    </tr>\n",
       "  </tbody>\n",
       "</table>\n",
       "</div>"
      ],
      "text/plain": [
       "      crashID          date       time     county ccode   fips\n",
       "0  130000325    01/01/2013     1:30AM     DOUGLAS   067  29067\n",
       "1  130002611    01/02/2013     3:45PM       LEWIS   111  29111\n",
       "2  130005274    01/03/2013    11:35PM      JASPER   097  29097\n",
       "3  130009936    01/05/2013    11:25PM   ST. LOUIS   189  29189\n",
       "4  130010983    01/06/2013     2:15PM        PIKE   163  29163"
      ]
     },
     "execution_count": 53,
     "metadata": {},
     "output_type": "execute_result"
    }
   ],
   "source": [
    "# Make a dictionary of corresponding county names and codes:\n",
    "countycodes = pd.read_csv('countycodes.csv',header=None, names={'code','county'}, converters={'code': str, 'county': str})\n",
    "\n",
    "#use 'converter' to keep the county codes as strings and not drop leading zeros\n",
    "countycodes.head()\n",
    "\n",
    "crashdf['county'] = crashdf['county'].str.strip()  #get rid of whitespace\n",
    "\n",
    "#ccdict = countycodes.set_index('county').to_dict()  #make it into a dictionary so we can lookup county names\n",
    "#^this was doing something weird; see solution below\n",
    "\n",
    "ccdict = dict(zip(countycodes.code, countycodes.county))\n",
    "\n",
    "#print(ccdict['ST. FRANCOIS']) #returns '187'\n",
    "\n",
    "crashdf['ccode'] = crashdf['county'].map(lambda x: ccdict[x], na_action='ignore')\n",
    "\n",
    "crashdf['fips'] = crashdf['ccode'].apply(lambda x: \"29\" + str(x))  #in acc_aux we have entire fips codes not just county codes\n",
    "\n",
    "crashdf.head()"
   ]
  },
  {
   "cell_type": "code",
   "execution_count": 50,
   "metadata": {
    "collapsed": false
   },
   "outputs": [
    {
     "name": "stdout",
     "output_type": "stream",
     "text": [
      "Connected!\n",
      "\n"
     ]
    }
   ],
   "source": [
    "import dbconnect\n",
    "\n",
    "conn = dbconnect.connect('mgibson_dui')\n"
   ]
  },
  {
   "cell_type": "code",
   "execution_count": 54,
   "metadata": {
    "collapsed": true
   },
   "outputs": [],
   "source": [
    "crashdf.to_sql('crash_reports', conn, if_exists='replace')"
   ]
  }
 ],
 "metadata": {
  "kernelspec": {
   "display_name": "Python 3",
   "language": "python",
   "name": "python3"
  },
  "language_info": {
   "codemirror_mode": {
    "name": "ipython",
    "version": 3
   },
   "file_extension": ".py",
   "mimetype": "text/x-python",
   "name": "python",
   "nbconvert_exporter": "python",
   "pygments_lexer": "ipython3",
   "version": "3.6.0"
  }
 },
 "nbformat": 4,
 "nbformat_minor": 2
}
