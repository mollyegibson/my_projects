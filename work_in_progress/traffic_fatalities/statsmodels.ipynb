{
 "cells": [
  {
   "cell_type": "code",
   "execution_count": 3,
   "metadata": {
    "collapsed": false
   },
   "outputs": [
    {
     "name": "stdout",
     "output_type": "stream",
     "text": [
      "Index(['total', 'urban', 'rural', 'male', 'female', 'hh_income', 'drivers',\n",
      "       'solodrivers', 'carpoolers', 'pubtrans', 'cyclists', 'walkers',\n",
      "       'under15', 'over45', 'male16_19', 'inschool_m1619', 'unenrolled_m1619',\n",
      "       'unemployed', 'lowest_ratio', 'highest_ratio'],\n",
      "      dtype='object')\n"
     ]
    },
    {
     "data": {
      "text/plain": [
       "403"
      ]
     },
     "execution_count": 3,
     "metadata": {},
     "output_type": "execute_result"
    }
   ],
   "source": [
    "# grabbing dataframes from tract-census notebook\n",
    "# y: fatals \n",
    "# X: 2015 fatal accident data by census tract in MO \n",
    "\n",
    "%store -r X\n",
    "%store -r y\n",
    "print(X.columns)\n",
    "len(y)"
   ]
  },
  {
   "cell_type": "code",
   "execution_count": 21,
   "metadata": {
    "collapsed": false
   },
   "outputs": [
    {
     "name": "stdout",
     "output_type": "stream",
     "text": [
      "                            OLS Regression Results                            \n",
      "==============================================================================\n",
      "Dep. Variable:                 fatals   R-squared:                       0.165\n",
      "Model:                            OLS   Adj. R-squared:                  0.128\n",
      "Method:                 Least Squares   F-statistic:                     4.482\n",
      "Date:                Wed, 19 Apr 2017   Prob (F-statistic):           1.54e-08\n",
      "Time:                        13:53:55   Log-Likelihood:                -1330.3\n",
      "No. Observations:                 403   AIC:                             2697.\n",
      "Df Residuals:                     385   BIC:                             2769.\n",
      "Df Model:                          17                                         \n",
      "Covariance Type:            nonrobust                                         \n",
      "====================================================================================\n",
      "                       coef    std err          t      P>|t|      [95.0% Conf. Int.]\n",
      "------------------------------------------------------------------------------------\n",
      "const                0.0035      0.001      3.032      0.003         0.001     0.006\n",
      "urban                0.1511      0.059      2.551      0.011         0.035     0.268\n",
      "rural                0.1958      0.056      3.515      0.000         0.086     0.305\n",
      "male                 0.2766      0.084      3.310      0.001         0.112     0.441\n",
      "female               0.0703      0.081      0.866      0.387        -0.089     0.230\n",
      "hh_income        -4.347e-05   3.29e-05     -1.322      0.187        -0.000  2.12e-05\n",
      "drivers             81.5139     71.248      1.144      0.253       -58.570   221.597\n",
      "solodrivers        -81.7556     71.252     -1.147      0.252      -221.848    58.337\n",
      "carpoolers         -81.7525     71.253     -1.147      0.252      -221.845    58.340\n",
      "pubtrans            -0.0959      0.142     -0.673      0.501        -0.376     0.184\n",
      "cyclists            -0.5690      0.516     -1.103      0.271        -1.583     0.445\n",
      "walkers             -0.2783      0.164     -1.696      0.091        -0.601     0.044\n",
      "under15              0.0586      0.028      2.078      0.038         0.003     0.114\n",
      "over45              -0.0426      0.045     -0.947      0.344        -0.131     0.046\n",
      "male16_19           15.1017     75.597      0.200      0.842      -133.533   163.736\n",
      "inschool_m1619     -15.0900     75.597     -0.200      0.842      -163.724   133.544\n",
      "unenrolled_m1619   -15.1014     75.597     -0.200      0.842      -163.736   133.533\n",
      "lowest_ratio        -0.1295      0.090     -1.444      0.150        -0.306     0.047\n",
      "highest_ratio       -0.0569      0.052     -1.097      0.273        -0.159     0.045\n",
      "unemployed_m1619    -0.0326      0.077     -0.423      0.672        -0.184     0.119\n",
      "==============================================================================\n",
      "Omnibus:                      375.131   Durbin-Watson:                   1.359\n",
      "Prob(Omnibus):                  0.000   Jarque-Bera (JB):            10788.186\n",
      "Skew:                           3.977   Prob(JB):                         0.00\n",
      "Kurtosis:                      27.067   Cond. No.                     1.15e+21\n",
      "==============================================================================\n",
      "\n",
      "Warnings:\n",
      "[1] Standard Errors assume that the covariance matrix of the errors is correctly specified.\n",
      "[2] The smallest eigenvalue is 1.12e-30. This might indicate that there are\n",
      "strong multicollinearity problems or that the design matrix is singular.\n"
     ]
    }
   ],
   "source": [
    "# playing around with linear models to see what we're dealing with...\n",
    "\n",
    "import statsmodels.api as sm\n",
    "#import statsmodels.formula.api as smf\n",
    "\n",
    "X = sm.add_constant(X) # still a lil confused on this\n",
    "\n",
    "X['unemployed_m1619'] = X['unemployed']\n",
    "X = X.drop('unemployed', axis=1)\n",
    "\n",
    "lm2 = sm.OLS(y, X).fit()\n",
    "\n",
    "print(lm2.summary())\n",
    "# looks way neater with the print()\n",
    "\n",
    "# if the 95% CI includes zero, predictor is NOT significant\n",
    "# not sure if this lm is meaningful because raw data\n",
    "\n",
    "# haha ok dang, gotta switch some things up\n",
    "# deal w collinearity\n",
    "\n"
   ]
  },
  {
   "cell_type": "code",
   "execution_count": 15,
   "metadata": {
    "collapsed": false
   },
   "outputs": [
    {
     "name": "stdout",
     "output_type": "stream",
     "text": [
      "\n",
      "Percentage of residents who live in rural areas\n",
      "\n",
      "                            OLS Regression Results                            \n",
      "==============================================================================\n",
      "Dep. Variable:                 fatals   R-squared:                       0.070\n",
      "Model:                            OLS   Adj. R-squared:                  0.067\n",
      "Method:                 Least Squares   F-statistic:                     30.04\n",
      "Date:                Wed, 19 Apr 2017   Prob (F-statistic):           7.51e-08\n",
      "Time:                        13:47:14   Log-Likelihood:                -1352.2\n",
      "No. Observations:                 403   AIC:                             2708.\n",
      "Df Residuals:                     401   BIC:                             2716.\n",
      "Df Model:                           1                                         \n",
      "Covariance Type:            nonrobust                                         \n",
      "==============================================================================\n",
      "                 coef    std err          t      P>|t|      [95.0% Conf. Int.]\n",
      "------------------------------------------------------------------------------\n",
      "const          4.0826      0.449      9.087      0.000         3.199     4.966\n",
      "rural          0.0450      0.008      5.481      0.000         0.029     0.061\n",
      "==============================================================================\n",
      "Omnibus:                      370.140   Durbin-Watson:                   1.260\n",
      "Prob(Omnibus):                  0.000   Jarque-Bera (JB):             9154.387\n",
      "Skew:                           3.966   Prob(JB):                         0.00\n",
      "Kurtosis:                      24.960   Cond. No.                         71.0\n",
      "==============================================================================\n",
      "\n",
      "Warnings:\n",
      "[1] Standard Errors assume that the covariance matrix of the errors is correctly specified.\n",
      "\n",
      "Percentage of residents who walk to work\n",
      "\n",
      "                            OLS Regression Results                            \n",
      "==============================================================================\n",
      "Dep. Variable:                 fatals   R-squared:                       0.109\n",
      "Model:                            OLS   Adj. R-squared:                  0.107\n",
      "Method:                 Least Squares   F-statistic:                     49.19\n",
      "Date:                Wed, 19 Apr 2017   Prob (F-statistic):           9.89e-12\n",
      "Time:                        13:47:14   Log-Likelihood:                -1440.4\n",
      "No. Observations:                 403   AIC:                             2883.\n",
      "Df Residuals:                     402   BIC:                             2887.\n",
      "Df Model:                           1                                         \n",
      "Covariance Type:            nonrobust                                         \n",
      "==============================================================================\n",
      "                 coef    std err          t      P>|t|      [95.0% Conf. Int.]\n",
      "------------------------------------------------------------------------------\n",
      "walkers        0.6725      0.096      7.014      0.000         0.484     0.861\n",
      "==============================================================================\n",
      "Omnibus:                      319.418   Durbin-Watson:                   1.021\n",
      "Prob(Omnibus):                  0.000   Jarque-Bera (JB):             6850.897\n",
      "Skew:                           3.198   Prob(JB):                         0.00\n",
      "Kurtosis:                      22.159   Cond. No.                         1.00\n",
      "==============================================================================\n",
      "\n",
      "Warnings:\n",
      "[1] Standard Errors assume that the covariance matrix of the errors is correctly specified.\n"
     ]
    }
   ],
   "source": [
    "Xa = X['rural']\n",
    "Xb = X['walkers']\n",
    "\n",
    "# ok i think i should have it loop through to find p-vals of each individual factor\n",
    "\n",
    "Xa = sm.add_constant(Xa)\n",
    "\n",
    "lm3 = sm.OLS(y, Xa).fit()\n",
    "lm4 = sm.OLS(y, Xb).fit()\n",
    "print(\"\\nPercentage of residents who live in rural areas\\n\")\n",
    "print(lm3.summary())\n",
    "print(\"\\nPercentage of residents who walk to work\\n\")\n",
    "print(lm4.summary())"
   ]
  },
  {
   "cell_type": "code",
   "execution_count": null,
   "metadata": {
    "collapsed": true
   },
   "outputs": [],
   "source": [
    "\n"
   ]
  }
 ],
 "metadata": {
  "kernelspec": {
   "display_name": "Python 3",
   "language": "python",
   "name": "python3"
  },
  "language_info": {
   "codemirror_mode": {
    "name": "ipython",
    "version": 3
   },
   "file_extension": ".py",
   "mimetype": "text/x-python",
   "name": "python",
   "nbconvert_exporter": "python",
   "pygments_lexer": "ipython3",
   "version": "3.6.0"
  }
 },
 "nbformat": 4,
 "nbformat_minor": 2
}
