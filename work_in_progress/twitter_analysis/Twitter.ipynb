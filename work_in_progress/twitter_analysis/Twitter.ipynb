{
 "cells": [
  {
   "cell_type": "code",
   "execution_count": 2,
   "metadata": {
    "collapsed": false
   },
   "outputs": [
    {
     "name": "stderr",
     "output_type": "stream",
     "text": [
      "/Users/mgibson/anaconda3/lib/python3.6/site-packages/matplotlib/font_manager.py:280: UserWarning: Matplotlib is building the font cache using fc-list. This may take a moment.\n",
      "  'Matplotlib is building the font cache using fc-list. '\n"
     ]
    }
   ],
   "source": [
    "import pandas as pd\n",
    "import matplotlib.pyplot as plt\n",
    "import numpy as np\n",
    "from dateutil.relativedelta import relativedelta\n",
    "import datetime\n",
    "import json\n",
    "#import urllib\n",
    "import time\n",
    "import string, sys\n",
    "\n",
    "\n",
    "\n",
    "mb_tweets = pd.read_json(\"https://s3.amazonaws.com/far-right/twitter/mb_protests.json\")\n",
    "\n",
    "#tweets = pd.read_json(\"https://s3.amazonaws.com/far-right/twitter/mb_protests.json\")\n",
    "\n",
    "breitbart = pd.read_csv('https://query.data.world/s/bbokc1f08to11j19j5axvkrcv', sep='\\t', parse_dates=['date'])\n",
    "\n",
    "\n",
    "\n",
    "\n",
    "\n"
   ]
  },
  {
   "cell_type": "code",
   "execution_count": 3,
   "metadata": {
    "collapsed": false
   },
   "outputs": [
    {
     "ename": "ModuleNotFoundError",
     "evalue": "No module named 'tweepy'",
     "output_type": "error",
     "traceback": [
      "\u001b[0;31m---------------------------------------------------------------------------\u001b[0m",
      "\u001b[0;31mModuleNotFoundError\u001b[0m                       Traceback (most recent call last)",
      "\u001b[0;32m<ipython-input-3-d01030eb2279>\u001b[0m in \u001b[0;36m<module>\u001b[0;34m()\u001b[0m\n\u001b[0;32m----> 1\u001b[0;31m \u001b[0;32mfrom\u001b[0m \u001b[0mtweepy\u001b[0m \u001b[0;32mimport\u001b[0m \u001b[0mAPI\u001b[0m\u001b[0;34m,\u001b[0m \u001b[0mOAuthHandler\u001b[0m\u001b[0;34m,\u001b[0m \u001b[0mCursor\u001b[0m\u001b[0;34m,\u001b[0m \u001b[0mStream\u001b[0m\u001b[0;34m\u001b[0m\u001b[0m\n\u001b[0m\u001b[1;32m      2\u001b[0m \u001b[0;32mfrom\u001b[0m \u001b[0mtweepy\u001b[0m\u001b[0;34m.\u001b[0m\u001b[0mstreaming\u001b[0m \u001b[0;32mimport\u001b[0m \u001b[0mStreamListener\u001b[0m\u001b[0;34m\u001b[0m\u001b[0m\n\u001b[1;32m      3\u001b[0m \u001b[0;34m\u001b[0m\u001b[0m\n\u001b[1;32m      4\u001b[0m \u001b[0;32mfrom\u001b[0m \u001b[0mconfig\u001b[0m \u001b[0;32mimport\u001b[0m \u001b[0;34m*\u001b[0m  \u001b[0;31m#put my access key etc. into a file called config.py\u001b[0m\u001b[0;34m\u001b[0m\u001b[0m\n\u001b[1;32m      5\u001b[0m \u001b[0;34m\u001b[0m\u001b[0m\n",
      "\u001b[0;31mModuleNotFoundError\u001b[0m: No module named 'tweepy'"
     ]
    }
   ],
   "source": [
    "from tweepy import API, OAuthHandler, Cursor, Stream\n",
    "from tweepy.streaming import StreamListener\n",
    "\n",
    "from config import *  #put my access key etc. into a file called config.py\n",
    "\n",
    "#Authentication:\n",
    "\n",
    "def get_auth():\n",
    "    auth = OAuthHandler(consumer_key, consumer_secret)\n",
    "    auth.set_access_token(access_token, access_secret)\n",
    "    return auth\n",
    "\n",
    "def get_twitter(): #twitter API client\n",
    "    auth = get_auth()\n",
    "    client = API(auth)\n",
    "    return client\n",
    "\n",
    "client = get_twitter()\n",
    "\n",
    "#to get the tweets from my own twitter account (which i made exclusively for API access)\n",
    "for i, status in enumerate(Cursor(client.home_timeline).items(5)):\n",
    "    print('{0}.)   {1}\\n'.format(i+1, status.text))\n",
    "\n",
    "\n"
   ]
  },
  {
   "cell_type": "code",
   "execution_count": null,
   "metadata": {
    "collapsed": false
   },
   "outputs": [],
   "source": [
    "breitbart.columns"
   ]
  },
  {
   "cell_type": "code",
   "execution_count": 12,
   "metadata": {
    "collapsed": false
   },
   "outputs": [
    {
     "data": {
      "text/plain": [
       "{'created': '2017-01-22T02:15:01',\n",
       " 'hashtags': '[\"WomensMarch\"]',\n",
       " 'loc': 'San Francisco, CA',\n",
       " 'message': 'RT @clapbackanna: Rihanna protesting in NYC #WomensMarch https://t.co/5qnX5JkMy2',\n",
       " 'name': '_insiang',\n",
       " 'topics': ['womensmarch', 'womensrights']}"
      ]
     },
     "execution_count": 12,
     "metadata": {},
     "output_type": "execute_result"
    }
   ],
   "source": [
    "womensmarch = pd.read_json(\"https://s3-us-west-2.amazonaws.com/discursive/womensmarch-tweets.txt\")\n",
    "\n",
    "womensmarch._source[0]\n"
   ]
  }
 ],
 "metadata": {
  "anaconda-cloud": {},
  "kernelspec": {
   "display_name": "Python 3",
   "language": "python",
   "name": "python3"
  },
  "language_info": {
   "codemirror_mode": {
    "name": "ipython",
    "version": 3
   },
   "file_extension": ".py",
   "mimetype": "text/x-python",
   "name": "python",
   "nbconvert_exporter": "python",
   "pygments_lexer": "ipython3",
   "version": "3.6.0"
  }
 },
 "nbformat": 4,
 "nbformat_minor": 1
}
