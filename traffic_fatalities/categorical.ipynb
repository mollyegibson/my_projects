{
 "cells": [
  {
   "cell_type": "code",
   "execution_count": 1,
   "metadata": {
    "collapsed": false
   },
   "outputs": [
    {
     "name": "stdout",
     "output_type": "stream",
     "text": [
      "Connected!\n",
      "\n"
     ]
    }
   ],
   "source": [
    "import statsmodels.formula.api as smf\n",
    "import dbconnect as db\n",
    "\n",
    "conn = db.connect(\"mgibson_dui\")\n"
   ]
  },
  {
   "cell_type": "code",
   "execution_count": 8,
   "metadata": {
    "collapsed": false
   },
   "outputs": [],
   "source": [
    "import pandas as pd\n",
    "\n",
    "# Added all fatal accidents in MO 2013&2015 to table in Postgres called best_acc2015\n",
    "\n",
    "accDF = pd.read_sql_query(\"SELECT * FROM %s;\" % \"best_acc2015\", conn)"
   ]
  },
  {
   "cell_type": "code",
   "execution_count": 9,
   "metadata": {
    "collapsed": false
   },
   "outputs": [],
   "source": [
    "accDF.head()\n",
    "\n",
    "accDF.to_csv('accidents_2015total.csv')\n",
    "# get percentage of drunk drivers per census tract, percentage of rural\n",
    "# also add the census tract data to this table and run regressions"
   ]
  },
  {
   "cell_type": "code",
   "execution_count": 5,
   "metadata": {
    "collapsed": false
   },
   "outputs": [
    {
     "data": {
      "text/html": [
       "<div>\n",
       "<table border=\"1\" class=\"dataframe\">\n",
       "  <thead>\n",
       "    <tr style=\"text-align: right;\">\n",
       "      <th></th>\n",
       "      <th>index</th>\n",
       "      <th>fips</th>\n",
       "      <th>year</th>\n",
       "      <th>state</th>\n",
       "      <th>st_case</th>\n",
       "      <th>fatals</th>\n",
       "      <th>daytime</th>\n",
       "      <th>weekday</th>\n",
       "      <th>posbac</th>\n",
       "      <th>youngdriver</th>\n",
       "      <th>hitnrun</th>\n",
       "      <th>drowsy</th>\n",
       "    </tr>\n",
       "  </thead>\n",
       "  <tbody>\n",
       "    <tr>\n",
       "      <th>0</th>\n",
       "      <td>16685</td>\n",
       "      <td>29186</td>\n",
       "      <td>2015</td>\n",
       "      <td>29</td>\n",
       "      <td>290001</td>\n",
       "      <td>1</td>\n",
       "      <td>1</td>\n",
       "      <td>1</td>\n",
       "      <td>1</td>\n",
       "      <td>0</td>\n",
       "      <td>0</td>\n",
       "      <td>0</td>\n",
       "    </tr>\n",
       "    <tr>\n",
       "      <th>1</th>\n",
       "      <td>16686</td>\n",
       "      <td>29186</td>\n",
       "      <td>2015</td>\n",
       "      <td>29</td>\n",
       "      <td>290002</td>\n",
       "      <td>1</td>\n",
       "      <td>1</td>\n",
       "      <td>0</td>\n",
       "      <td>0</td>\n",
       "      <td>0</td>\n",
       "      <td>0</td>\n",
       "      <td>0</td>\n",
       "    </tr>\n",
       "    <tr>\n",
       "      <th>2</th>\n",
       "      <td>16687</td>\n",
       "      <td>29183</td>\n",
       "      <td>2015</td>\n",
       "      <td>29</td>\n",
       "      <td>290003</td>\n",
       "      <td>2</td>\n",
       "      <td>0</td>\n",
       "      <td>1</td>\n",
       "      <td>1</td>\n",
       "      <td>1</td>\n",
       "      <td>0</td>\n",
       "      <td>0</td>\n",
       "    </tr>\n",
       "    <tr>\n",
       "      <th>3</th>\n",
       "      <td>16688</td>\n",
       "      <td>29167</td>\n",
       "      <td>2015</td>\n",
       "      <td>29</td>\n",
       "      <td>290004</td>\n",
       "      <td>1</td>\n",
       "      <td>1</td>\n",
       "      <td>1</td>\n",
       "      <td>0</td>\n",
       "      <td>0</td>\n",
       "      <td>0</td>\n",
       "      <td>1</td>\n",
       "    </tr>\n",
       "    <tr>\n",
       "      <th>4</th>\n",
       "      <td>16689</td>\n",
       "      <td>29099</td>\n",
       "      <td>2015</td>\n",
       "      <td>29</td>\n",
       "      <td>290005</td>\n",
       "      <td>1</td>\n",
       "      <td>0</td>\n",
       "      <td>1</td>\n",
       "      <td>1</td>\n",
       "      <td>0</td>\n",
       "      <td>0</td>\n",
       "      <td>0</td>\n",
       "    </tr>\n",
       "  </tbody>\n",
       "</table>\n",
       "</div>"
      ],
      "text/plain": [
       "   index   fips  year state  st_case  fatals  daytime  weekday  posbac  \\\n",
       "0  16685  29186  2015    29   290001       1        1        1       1   \n",
       "1  16686  29186  2015    29   290002       1        1        0       0   \n",
       "2  16687  29183  2015    29   290003       2        0        1       1   \n",
       "3  16688  29167  2015    29   290004       1        1        1       0   \n",
       "4  16689  29099  2015    29   290005       1        0        1       1   \n",
       "\n",
       "   youngdriver  hitnrun  drowsy  \n",
       "0            0        0       0  \n",
       "1            0        0       0  \n",
       "2            1        0       0  \n",
       "3            0        0       1  \n",
       "4            0        0       0  "
      ]
     },
     "execution_count": 5,
     "metadata": {},
     "output_type": "execute_result"
    }
   ],
   "source": [
    "changes = ['youngdriver', 'posbac', 'hitnrun', 'drowsy', 'daytime', 'weekday']\n",
    "\n",
    "# we want to make 1: true, 0: false\n",
    "\n",
    "\n",
    "accDF[changes] = accDF[changes].replace(2, 0)\n",
    "accDF['posbac'] = accDF['posbac'].replace(3, 0)  # if the drivers BAC is unknown, it must be zero\n",
    "accDF.head()\n",
    "\n",
    "X = accDF[changes]\n",
    "y = accDF['fatals']\n",
    "\n",
    "accDF.head()"
   ]
  },
  {
   "cell_type": "code",
   "execution_count": 17,
   "metadata": {
    "collapsed": false
   },
   "outputs": [
    {
     "name": "stdout",
     "output_type": "stream",
     "text": [
      "youngdriver\n",
      "0    1260\n",
      "1     225\n",
      "Name: fatals, dtype: int64\n",
      "posbac\n",
      "0    1082\n",
      "1     403\n",
      "Name: fatals, dtype: int64\n"
     ]
    }
   ],
   "source": [
    "# count the number of accidents involving young drivers\n",
    "import numpy as np\n",
    "\n",
    "\n",
    "print(y.groupby(X.youngdriver).count())\n",
    "print(y.groupby(X.posbac).count())"
   ]
  },
  {
   "cell_type": "code",
   "execution_count": 24,
   "metadata": {
    "collapsed": false
   },
   "outputs": [
    {
     "data": {
      "text/html": [
       "<div>\n",
       "<table border=\"1\" class=\"dataframe\">\n",
       "  <thead>\n",
       "    <tr style=\"text-align: right;\">\n",
       "      <th></th>\n",
       "      <th></th>\n",
       "      <th>fatals</th>\n",
       "    </tr>\n",
       "    <tr>\n",
       "      <th>youngdriver</th>\n",
       "      <th>posbac</th>\n",
       "      <th></th>\n",
       "    </tr>\n",
       "  </thead>\n",
       "  <tbody>\n",
       "    <tr>\n",
       "      <th rowspan=\"2\" valign=\"top\">0</th>\n",
       "      <th>0</th>\n",
       "      <td>902</td>\n",
       "    </tr>\n",
       "    <tr>\n",
       "      <th>1</th>\n",
       "      <td>358</td>\n",
       "    </tr>\n",
       "    <tr>\n",
       "      <th rowspan=\"2\" valign=\"top\">1</th>\n",
       "      <th>0</th>\n",
       "      <td>180</td>\n",
       "    </tr>\n",
       "    <tr>\n",
       "      <th>1</th>\n",
       "      <td>45</td>\n",
       "    </tr>\n",
       "  </tbody>\n",
       "</table>\n",
       "</div>"
      ],
      "text/plain": [
       "                    fatals\n",
       "youngdriver posbac        \n",
       "0           0          902\n",
       "            1          358\n",
       "1           0          180\n",
       "            1           45"
      ]
     },
     "execution_count": 24,
     "metadata": {},
     "output_type": "execute_result"
    }
   ],
   "source": [
    "accDF.pivot_table(values=['fatals'], index=['youngdriver', 'posbac'], aggfunc=len)\n",
    "\n",
    "# breakdown of drunk drivers and young drivers, 1: true, 0: false"
   ]
  }
 ],
 "metadata": {
  "kernelspec": {
   "display_name": "Python 3",
   "language": "python",
   "name": "python3"
  },
  "language_info": {
   "codemirror_mode": {
    "name": "ipython",
    "version": 3
   },
   "file_extension": ".py",
   "mimetype": "text/x-python",
   "name": "python",
   "nbconvert_exporter": "python",
   "pygments_lexer": "ipython3",
   "version": "3.6.0"
  }
 },
 "nbformat": 4,
 "nbformat_minor": 2
}
