{
 "cells": [
  {
   "cell_type": "code",
   "execution_count": 1,
   "metadata": {
    "collapsed": false
   },
   "outputs": [
    {
     "name": "stdout",
     "output_type": "stream",
     "text": [
      "importing Jupyter notebook from recommendation_alg.ipynb\n",
      "train df:  (3255352, 3) | test df:  (100478, 3)\n",
      "\n",
      "number of users:  28978 | number of movies:  1821\n",
      "average number of netflix reviews per movie:  1787.673\n",
      "average rating for netflix movies:  3.058\n",
      "########################  TOP RATED NETFLIX MOVIES - BAYESIAN AVG ############################\n",
      "4.348 average rating (20691 reviews) The Godfather\n",
      "4.235 average rating (21209 reviews) The Incredibles\n",
      "4.215 average rating (10430 reviews) The Sopranos: Season 1\n",
      "4.214 average rating (17292 reviews) The Godfather, Part II\n",
      "4.189 average rating (9579 reviews) The Sopranos: Season 3\n",
      "4.052 average rating (13771 reviews) Aladdin: Platinum Edition\n",
      "4.028 average rating (15086 reviews) Million Dollar Baby\n",
      "4.024 average rating (23005 reviews) Seven\n",
      "4.013 average rating (5941 reviews) Six Feet Under: Season 2\n",
      "4.002 average rating (16170 reviews) Alien: Collector's Edition\n",
      "(28978, 1821)\n",
      "[ 5.  4.  0.  0.  0.  0.  0.  0.  0.  0.]\n",
      "1 loop, best of 3: 1min 18s per loop\n",
      "1 loop, best of 3: 1min 16s per loop\n",
      "Root Mean Squared Error w Normalization:  2.512 | Root Mean Squared Error w.o Normalization:  2.545\n",
      "1 loop, best of 3: 3.4 s per loop\n",
      "Root Mean Squared Error (item-based):  2.967\n"
     ]
    }
   ],
   "source": [
    "import import_ipy_mods\n",
    "import recommendation_alg as rec\n",
    "import heapq"
   ]
  },
  {
   "cell_type": "code",
   "execution_count": 28,
   "metadata": {
    "collapsed": false
   },
   "outputs": [
    {
     "name": "stdout",
     "output_type": "stream",
     "text": [
      "number of movielens movies:  1682 | number of movielens users:  943\n"
     ]
    }
   ],
   "source": [
    "import pandas as pd\n",
    "import numpy as np\n",
    "from collections import defaultdict\n",
    "# load ratings data into dataframes and put the titles in a dictionary corresponding to their movie-ids\n",
    "####################################################\n",
    "\n",
    "ml_cols = ['user_id', 'movie_id', 'rating', 'timestamp']\n",
    "mldf = pd.read_csv('ml-100k/u.data', sep='\\t', names=ml_cols)\n",
    "\n",
    "# like i thought - iterative user_ids \n",
    "sorted(mldf.user_id.unique())[:5]\n",
    "mldf.head()\n",
    "\n",
    "num_movs = mldf.movie_id.unique().shape[0]\n",
    "num_usrs = mldf.user_id.unique().shape[0]\n",
    "\n",
    "print(\"number of movielens movies: \", num_movs, \"| number of movielens users: \", num_usrs)\n",
    "\n",
    "mltitles = pd.read_csv('ml-100k/u.item', delimiter='|', encoding='latin1', usecols=[0,1], names=['movie_id', 'title'])\n",
    "\n",
    "ml_tdict = pd.Series(mltitles.title.values, index=mltitles.movie_id).to_dict()\n",
    "\n",
    "# lists of the IDs \n",
    "userIDs = sorted(mldf.user_id.unique())\n",
    "movieIDs = sorted(mldf.movie_id.unique())\n",
    "\n",
    "# dictionary of lists of all reviews corresponding to given movie-id: \n",
    "mlreviews = defaultdict(list)\n",
    "rec.create_rev_dict(mldf.movie_id.unique(), mldf, mlreviews)\n"
   ]
  },
  {
   "cell_type": "code",
   "execution_count": 29,
   "metadata": {
    "collapsed": false
   },
   "outputs": [
    {
     "name": "stdout",
     "output_type": "stream",
     "text": [
      "average number of movielens reviews per movie:  59.453 | average rating for movielens movies:  3.076\n"
     ]
    }
   ],
   "source": [
    "# calculate prior avg star rating and avg number of reviews per movie\n",
    "\n",
    "avgs = pd.DataFrame(rec.calc_avgs(movieIDs, mlreviews), columns=['m_id', 'avg_rating', 'num_reviews'])\n",
    "avgs['mtitle'] = avgs['m_id'].map(ml_tdict)\n",
    "# and we need the avg number of reviewers for each movie (c)\n",
    "print(\"average number of movielens reviews per movie: \", round(avgs.num_reviews.mean(), 3), \"| average rating for movielens movies: \", round(avgs.avg_rating.mean(), 3))\n"
   ]
  },
  {
   "cell_type": "code",
   "execution_count": 30,
   "metadata": {
    "collapsed": false
   },
   "outputs": [
    {
     "name": "stdout",
     "output_type": "stream",
     "text": [
      "########################  MOVIELENS TOP RATED MOVIES - BAYESIAN AVG ############################\n"
     ]
    },
    {
     "ename": "NameError",
     "evalue": "name 'heapq' is not defined",
     "output_type": "error",
     "traceback": [
      "\u001b[0;31m---------------------------------------------------------------------------\u001b[0m",
      "\u001b[0;31mNameError\u001b[0m                                 Traceback (most recent call last)",
      "\u001b[0;32m<ipython-input-30-05ef3cce6052>\u001b[0m in \u001b[0;36m<module>\u001b[0;34m()\u001b[0m\n\u001b[1;32m      1\u001b[0m \u001b[0mprint\u001b[0m \u001b[0;34m(\u001b[0m\u001b[0;34m'########################  MOVIELENS TOP RATED MOVIES - BAYESIAN AVG ############################'\u001b[0m\u001b[0;34m)\u001b[0m\u001b[0;34m\u001b[0m\u001b[0m\n\u001b[1;32m      2\u001b[0m \u001b[0;34m\u001b[0m\u001b[0m\n\u001b[0;32m----> 3\u001b[0;31m \u001b[0;32mfor\u001b[0m \u001b[0mmovid\u001b[0m\u001b[0;34m,\u001b[0m \u001b[0mavg\u001b[0m\u001b[0;34m,\u001b[0m \u001b[0mnum\u001b[0m \u001b[0;32min\u001b[0m \u001b[0mrec\u001b[0m\u001b[0;34m.\u001b[0m\u001b[0mbayes_top_n\u001b[0m\u001b[0;34m(\u001b[0m\u001b[0;36m10\u001b[0m\u001b[0;34m,\u001b[0m \u001b[0midlist\u001b[0m\u001b[0;34m=\u001b[0m\u001b[0mmldf\u001b[0m\u001b[0;34m.\u001b[0m\u001b[0mmovie_id\u001b[0m\u001b[0;34m.\u001b[0m\u001b[0munique\u001b[0m\u001b[0;34m(\u001b[0m\u001b[0;34m)\u001b[0m\u001b[0;34m,\u001b[0m \u001b[0mrevdict\u001b[0m\u001b[0;34m=\u001b[0m\u001b[0mmlreviews\u001b[0m\u001b[0;34m,\u001b[0m \u001b[0mc\u001b[0m\u001b[0;34m=\u001b[0m\u001b[0;36m59\u001b[0m\u001b[0;34m,\u001b[0m \u001b[0mm\u001b[0m\u001b[0;34m=\u001b[0m\u001b[0;36m3\u001b[0m\u001b[0;34m)\u001b[0m\u001b[0;34m:\u001b[0m\u001b[0;34m\u001b[0m\u001b[0m\n\u001b[0m\u001b[1;32m      4\u001b[0m     \u001b[0mprint\u001b[0m\u001b[0;34m(\u001b[0m\u001b[0;34m\"%0.3f average rating (%i reviews) %s\"\u001b[0m \u001b[0;34m%\u001b[0m \u001b[0;34m(\u001b[0m\u001b[0mavg\u001b[0m\u001b[0;34m,\u001b[0m \u001b[0mnum\u001b[0m\u001b[0;34m,\u001b[0m \u001b[0mml_tdict\u001b[0m\u001b[0;34m[\u001b[0m\u001b[0mmovid\u001b[0m\u001b[0;34m]\u001b[0m\u001b[0;34m)\u001b[0m\u001b[0;34m)\u001b[0m\u001b[0;34m\u001b[0m\u001b[0m\n",
      "\u001b[0;32m/Users/mgibson/JOB-SEARCH/recommendation-alg/recommendation_alg.ipynb\u001b[0m in \u001b[0;36mbayes_top_n\u001b[0;34m(n, idlist, revdict, c, m)\u001b[0m\n",
      "\u001b[0;31mNameError\u001b[0m: name 'heapq' is not defined"
     ]
    }
   ],
   "source": [
    "print ('########################  MOVIELENS TOP RATED MOVIES - BAYESIAN AVG ############################')\n",
    "\n",
    "for movid, avg, num in rec.bayes_top_n(10, idlist=mldf.movie_id.unique(), revdict=mlreviews, c=59, m=3):\n",
    "    print(\"%0.3f average rating (%i reviews) %s\" % (avg, num, ml_tdict[movid]))\n"
   ]
  },
  {
   "cell_type": "code",
   "execution_count": 12,
   "metadata": {
    "collapsed": false
   },
   "outputs": [
    {
     "data": {
      "text/html": [
       "<div>\n",
       "<table border=\"1\" class=\"dataframe\">\n",
       "  <thead>\n",
       "    <tr style=\"text-align: right;\">\n",
       "      <th></th>\n",
       "      <th>user_id</th>\n",
       "      <th>movie_id</th>\n",
       "      <th>rating</th>\n",
       "      <th>timestamp</th>\n",
       "    </tr>\n",
       "  </thead>\n",
       "  <tbody>\n",
       "    <tr>\n",
       "      <th>55341</th>\n",
       "      <td>749</td>\n",
       "      <td>295</td>\n",
       "      <td>3</td>\n",
       "      <td>881602635</td>\n",
       "    </tr>\n",
       "    <tr>\n",
       "      <th>55983</th>\n",
       "      <td>567</td>\n",
       "      <td>847</td>\n",
       "      <td>4</td>\n",
       "      <td>882425791</td>\n",
       "    </tr>\n",
       "    <tr>\n",
       "      <th>21714</th>\n",
       "      <td>85</td>\n",
       "      <td>529</td>\n",
       "      <td>3</td>\n",
       "      <td>879827935</td>\n",
       "    </tr>\n",
       "    <tr>\n",
       "      <th>85515</th>\n",
       "      <td>708</td>\n",
       "      <td>336</td>\n",
       "      <td>2</td>\n",
       "      <td>892718846</td>\n",
       "    </tr>\n",
       "    <tr>\n",
       "      <th>69</th>\n",
       "      <td>223</td>\n",
       "      <td>274</td>\n",
       "      <td>4</td>\n",
       "      <td>891550094</td>\n",
       "    </tr>\n",
       "  </tbody>\n",
       "</table>\n",
       "</div>"
      ],
      "text/plain": [
       "       user_id  movie_id  rating  timestamp\n",
       "55341      749       295       3  881602635\n",
       "55983      567       847       4  882425791\n",
       "21714       85       529       3  879827935\n",
       "85515      708       336       2  892718846\n",
       "69         223       274       4  891550094"
      ]
     },
     "execution_count": 12,
     "metadata": {},
     "output_type": "execute_result"
    }
   ],
   "source": [
    "from sklearn import cross_validation as cv\n",
    "\n",
    "# divide into training df and testing df\n",
    "train_data, test_data = cv.train_test_split(mldf, test_size=0.25)\n",
    "\n",
    "train_data.head()"
   ]
  },
  {
   "cell_type": "code",
   "execution_count": 22,
   "metadata": {
    "collapsed": false
   },
   "outputs": [
    {
     "ename": "NameError",
     "evalue": "name 'num_usrs' is not defined",
     "output_type": "error",
     "traceback": [
      "\u001b[0;31m---------------------------------------------------------------------------\u001b[0m",
      "\u001b[0;31mNameError\u001b[0m                                 Traceback (most recent call last)",
      "\u001b[0;32m<ipython-input-22-c74929968075>\u001b[0m in \u001b[0;36m<module>\u001b[0;34m()\u001b[0m\n\u001b[1;32m      1\u001b[0m \u001b[0;31m# create a user-item matrix so we can compute cosine similarities\u001b[0m\u001b[0;34m\u001b[0m\u001b[0;34m\u001b[0m\u001b[0m\n\u001b[0;32m----> 2\u001b[0;31m \u001b[0mtrain_trix\u001b[0m \u001b[0;34m=\u001b[0m \u001b[0mnp\u001b[0m\u001b[0;34m.\u001b[0m\u001b[0mzeros\u001b[0m\u001b[0;34m(\u001b[0m\u001b[0;34m(\u001b[0m\u001b[0mnum_usrs\u001b[0m\u001b[0;34m,\u001b[0m \u001b[0mnum_movs\u001b[0m\u001b[0;34m)\u001b[0m\u001b[0;34m)\u001b[0m\u001b[0;34m\u001b[0m\u001b[0m\n\u001b[0m\u001b[1;32m      3\u001b[0m \u001b[0;34m\u001b[0m\u001b[0m\n\u001b[1;32m      4\u001b[0m \u001b[0;31m# for each row, find the user/movie ID's index in its respective list and add it to those indices in the u-i matrix\u001b[0m\u001b[0;34m\u001b[0m\u001b[0;34m\u001b[0m\u001b[0m\n\u001b[1;32m      5\u001b[0m \u001b[0;34m\u001b[0m\u001b[0m\n",
      "\u001b[0;31mNameError\u001b[0m: name 'num_usrs' is not defined"
     ]
    }
   ],
   "source": [
    "# create a user-item matrix so we can compute cosine similarities\n",
    "train_trix = np.zeros((num_usrs, num_movs))\n",
    "\n",
    "# for each row, find the user/movie ID's index in its respective list and add it to those indices in the u-i matrix\n",
    "\n",
    "\n",
    "for row in train_data.itertuples():\n",
    "    # commenting out so don't accidentally run it \n",
    "    train_trix[row[1] - 1, row[2] - 1] = row[3]\n",
    "    \n",
    "# create user-item matrix with test dataset\n",
    "test_trix = np.zeros((num_usrs, num_movs))\n",
    "\n",
    "for row in test_data.itertuples():\n",
    "    test_trix[row[1] - 1, row[2] - 1] = row[3]\n"
   ]
  }
 ],
 "metadata": {
  "kernelspec": {
   "display_name": "Python 3",
   "language": "python",
   "name": "python3"
  },
  "language_info": {
   "codemirror_mode": {
    "name": "ipython",
    "version": 3
   },
   "file_extension": ".py",
   "mimetype": "text/x-python",
   "name": "python",
   "nbconvert_exporter": "python",
   "pygments_lexer": "ipython3",
   "version": "3.6.0"
  }
 },
 "nbformat": 4,
 "nbformat_minor": 2
}
